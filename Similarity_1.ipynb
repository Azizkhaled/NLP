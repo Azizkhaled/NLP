{
  "nbformat": 4,
  "nbformat_minor": 0,
  "metadata": {
    "colab": {
      "provenance": [],
      "authorship_tag": "ABX9TyNtA05zLwyIz4pVaO8J2v2I",
      "include_colab_link": true
    },
    "kernelspec": {
      "name": "python3",
      "display_name": "Python 3"
    },
    "language_info": {
      "name": "python"
    },
    "widgets": {
      "application/vnd.jupyter.widget-state+json": {
        "e90ffee4fcd543d79b942de4817d2daa": {
          "model_module": "@jupyter-widgets/controls",
          "model_name": "HBoxModel",
          "model_module_version": "1.5.0",
          "state": {
            "_dom_classes": [],
            "_model_module": "@jupyter-widgets/controls",
            "_model_module_version": "1.5.0",
            "_model_name": "HBoxModel",
            "_view_count": null,
            "_view_module": "@jupyter-widgets/controls",
            "_view_module_version": "1.5.0",
            "_view_name": "HBoxView",
            "box_style": "",
            "children": [
              "IPY_MODEL_15aea662cdac4f4abbce20f586870b1e",
              "IPY_MODEL_83d43cd156274f07ba2c931af64a3fc1",
              "IPY_MODEL_c91f46bd34844686b42d52f4e055b0b8"
            ],
            "layout": "IPY_MODEL_c5fc2caede5947afbf423925903ac419"
          }
        },
        "15aea662cdac4f4abbce20f586870b1e": {
          "model_module": "@jupyter-widgets/controls",
          "model_name": "HTMLModel",
          "model_module_version": "1.5.0",
          "state": {
            "_dom_classes": [],
            "_model_module": "@jupyter-widgets/controls",
            "_model_module_version": "1.5.0",
            "_model_name": "HTMLModel",
            "_view_count": null,
            "_view_module": "@jupyter-widgets/controls",
            "_view_module_version": "1.5.0",
            "_view_name": "HTMLView",
            "description": "",
            "description_tooltip": null,
            "layout": "IPY_MODEL_367f3c1be4d64009bffe2e1f2e642985",
            "placeholder": "​",
            "style": "IPY_MODEL_4006dd233f3a41ffad18911cd4f52c6e",
            "value": "Downloading (…)okenizer_config.json: 100%"
          }
        },
        "83d43cd156274f07ba2c931af64a3fc1": {
          "model_module": "@jupyter-widgets/controls",
          "model_name": "FloatProgressModel",
          "model_module_version": "1.5.0",
          "state": {
            "_dom_classes": [],
            "_model_module": "@jupyter-widgets/controls",
            "_model_module_version": "1.5.0",
            "_model_name": "FloatProgressModel",
            "_view_count": null,
            "_view_module": "@jupyter-widgets/controls",
            "_view_module_version": "1.5.0",
            "_view_name": "ProgressView",
            "bar_style": "success",
            "description": "",
            "description_tooltip": null,
            "layout": "IPY_MODEL_273defa5dea3404abb4777e5339df866",
            "max": 489,
            "min": 0,
            "orientation": "horizontal",
            "style": "IPY_MODEL_5ad84774d5a84778b7d3455a0b1b4d47",
            "value": 489
          }
        },
        "c91f46bd34844686b42d52f4e055b0b8": {
          "model_module": "@jupyter-widgets/controls",
          "model_name": "HTMLModel",
          "model_module_version": "1.5.0",
          "state": {
            "_dom_classes": [],
            "_model_module": "@jupyter-widgets/controls",
            "_model_module_version": "1.5.0",
            "_model_name": "HTMLModel",
            "_view_count": null,
            "_view_module": "@jupyter-widgets/controls",
            "_view_module_version": "1.5.0",
            "_view_name": "HTMLView",
            "description": "",
            "description_tooltip": null,
            "layout": "IPY_MODEL_321b91c1ee6d4e6e9477e7ddd15286f7",
            "placeholder": "​",
            "style": "IPY_MODEL_21158e097623489bbc21d2cf0018122c",
            "value": " 489/489 [00:00&lt;00:00, 10.6kB/s]"
          }
        },
        "c5fc2caede5947afbf423925903ac419": {
          "model_module": "@jupyter-widgets/base",
          "model_name": "LayoutModel",
          "model_module_version": "1.2.0",
          "state": {
            "_model_module": "@jupyter-widgets/base",
            "_model_module_version": "1.2.0",
            "_model_name": "LayoutModel",
            "_view_count": null,
            "_view_module": "@jupyter-widgets/base",
            "_view_module_version": "1.2.0",
            "_view_name": "LayoutView",
            "align_content": null,
            "align_items": null,
            "align_self": null,
            "border": null,
            "bottom": null,
            "display": null,
            "flex": null,
            "flex_flow": null,
            "grid_area": null,
            "grid_auto_columns": null,
            "grid_auto_flow": null,
            "grid_auto_rows": null,
            "grid_column": null,
            "grid_gap": null,
            "grid_row": null,
            "grid_template_areas": null,
            "grid_template_columns": null,
            "grid_template_rows": null,
            "height": null,
            "justify_content": null,
            "justify_items": null,
            "left": null,
            "margin": null,
            "max_height": null,
            "max_width": null,
            "min_height": null,
            "min_width": null,
            "object_fit": null,
            "object_position": null,
            "order": null,
            "overflow": null,
            "overflow_x": null,
            "overflow_y": null,
            "padding": null,
            "right": null,
            "top": null,
            "visibility": null,
            "width": null
          }
        },
        "367f3c1be4d64009bffe2e1f2e642985": {
          "model_module": "@jupyter-widgets/base",
          "model_name": "LayoutModel",
          "model_module_version": "1.2.0",
          "state": {
            "_model_module": "@jupyter-widgets/base",
            "_model_module_version": "1.2.0",
            "_model_name": "LayoutModel",
            "_view_count": null,
            "_view_module": "@jupyter-widgets/base",
            "_view_module_version": "1.2.0",
            "_view_name": "LayoutView",
            "align_content": null,
            "align_items": null,
            "align_self": null,
            "border": null,
            "bottom": null,
            "display": null,
            "flex": null,
            "flex_flow": null,
            "grid_area": null,
            "grid_auto_columns": null,
            "grid_auto_flow": null,
            "grid_auto_rows": null,
            "grid_column": null,
            "grid_gap": null,
            "grid_row": null,
            "grid_template_areas": null,
            "grid_template_columns": null,
            "grid_template_rows": null,
            "height": null,
            "justify_content": null,
            "justify_items": null,
            "left": null,
            "margin": null,
            "max_height": null,
            "max_width": null,
            "min_height": null,
            "min_width": null,
            "object_fit": null,
            "object_position": null,
            "order": null,
            "overflow": null,
            "overflow_x": null,
            "overflow_y": null,
            "padding": null,
            "right": null,
            "top": null,
            "visibility": null,
            "width": null
          }
        },
        "4006dd233f3a41ffad18911cd4f52c6e": {
          "model_module": "@jupyter-widgets/controls",
          "model_name": "DescriptionStyleModel",
          "model_module_version": "1.5.0",
          "state": {
            "_model_module": "@jupyter-widgets/controls",
            "_model_module_version": "1.5.0",
            "_model_name": "DescriptionStyleModel",
            "_view_count": null,
            "_view_module": "@jupyter-widgets/base",
            "_view_module_version": "1.2.0",
            "_view_name": "StyleView",
            "description_width": ""
          }
        },
        "273defa5dea3404abb4777e5339df866": {
          "model_module": "@jupyter-widgets/base",
          "model_name": "LayoutModel",
          "model_module_version": "1.2.0",
          "state": {
            "_model_module": "@jupyter-widgets/base",
            "_model_module_version": "1.2.0",
            "_model_name": "LayoutModel",
            "_view_count": null,
            "_view_module": "@jupyter-widgets/base",
            "_view_module_version": "1.2.0",
            "_view_name": "LayoutView",
            "align_content": null,
            "align_items": null,
            "align_self": null,
            "border": null,
            "bottom": null,
            "display": null,
            "flex": null,
            "flex_flow": null,
            "grid_area": null,
            "grid_auto_columns": null,
            "grid_auto_flow": null,
            "grid_auto_rows": null,
            "grid_column": null,
            "grid_gap": null,
            "grid_row": null,
            "grid_template_areas": null,
            "grid_template_columns": null,
            "grid_template_rows": null,
            "height": null,
            "justify_content": null,
            "justify_items": null,
            "left": null,
            "margin": null,
            "max_height": null,
            "max_width": null,
            "min_height": null,
            "min_width": null,
            "object_fit": null,
            "object_position": null,
            "order": null,
            "overflow": null,
            "overflow_x": null,
            "overflow_y": null,
            "padding": null,
            "right": null,
            "top": null,
            "visibility": null,
            "width": null
          }
        },
        "5ad84774d5a84778b7d3455a0b1b4d47": {
          "model_module": "@jupyter-widgets/controls",
          "model_name": "ProgressStyleModel",
          "model_module_version": "1.5.0",
          "state": {
            "_model_module": "@jupyter-widgets/controls",
            "_model_module_version": "1.5.0",
            "_model_name": "ProgressStyleModel",
            "_view_count": null,
            "_view_module": "@jupyter-widgets/base",
            "_view_module_version": "1.2.0",
            "_view_name": "StyleView",
            "bar_color": null,
            "description_width": ""
          }
        },
        "321b91c1ee6d4e6e9477e7ddd15286f7": {
          "model_module": "@jupyter-widgets/base",
          "model_name": "LayoutModel",
          "model_module_version": "1.2.0",
          "state": {
            "_model_module": "@jupyter-widgets/base",
            "_model_module_version": "1.2.0",
            "_model_name": "LayoutModel",
            "_view_count": null,
            "_view_module": "@jupyter-widgets/base",
            "_view_module_version": "1.2.0",
            "_view_name": "LayoutView",
            "align_content": null,
            "align_items": null,
            "align_self": null,
            "border": null,
            "bottom": null,
            "display": null,
            "flex": null,
            "flex_flow": null,
            "grid_area": null,
            "grid_auto_columns": null,
            "grid_auto_flow": null,
            "grid_auto_rows": null,
            "grid_column": null,
            "grid_gap": null,
            "grid_row": null,
            "grid_template_areas": null,
            "grid_template_columns": null,
            "grid_template_rows": null,
            "height": null,
            "justify_content": null,
            "justify_items": null,
            "left": null,
            "margin": null,
            "max_height": null,
            "max_width": null,
            "min_height": null,
            "min_width": null,
            "object_fit": null,
            "object_position": null,
            "order": null,
            "overflow": null,
            "overflow_x": null,
            "overflow_y": null,
            "padding": null,
            "right": null,
            "top": null,
            "visibility": null,
            "width": null
          }
        },
        "21158e097623489bbc21d2cf0018122c": {
          "model_module": "@jupyter-widgets/controls",
          "model_name": "DescriptionStyleModel",
          "model_module_version": "1.5.0",
          "state": {
            "_model_module": "@jupyter-widgets/controls",
            "_model_module_version": "1.5.0",
            "_model_name": "DescriptionStyleModel",
            "_view_count": null,
            "_view_module": "@jupyter-widgets/base",
            "_view_module_version": "1.2.0",
            "_view_name": "StyleView",
            "description_width": ""
          }
        },
        "e48eac4a9a9a4e2fb5f0d6cf6b753660": {
          "model_module": "@jupyter-widgets/controls",
          "model_name": "HBoxModel",
          "model_module_version": "1.5.0",
          "state": {
            "_dom_classes": [],
            "_model_module": "@jupyter-widgets/controls",
            "_model_module_version": "1.5.0",
            "_model_name": "HBoxModel",
            "_view_count": null,
            "_view_module": "@jupyter-widgets/controls",
            "_view_module_version": "1.5.0",
            "_view_name": "HBoxView",
            "box_style": "",
            "children": [
              "IPY_MODEL_c1a0d103c33e4c578a95a0af1f00cf62",
              "IPY_MODEL_e876af6a7aa34241ba3079e7b99ac3e1",
              "IPY_MODEL_9e3d72a86a3b412ab2b33354dd734d47"
            ],
            "layout": "IPY_MODEL_ec881334bbb54ebbbe5782699877ce27"
          }
        },
        "c1a0d103c33e4c578a95a0af1f00cf62": {
          "model_module": "@jupyter-widgets/controls",
          "model_name": "HTMLModel",
          "model_module_version": "1.5.0",
          "state": {
            "_dom_classes": [],
            "_model_module": "@jupyter-widgets/controls",
            "_model_module_version": "1.5.0",
            "_model_name": "HTMLModel",
            "_view_count": null,
            "_view_module": "@jupyter-widgets/controls",
            "_view_module_version": "1.5.0",
            "_view_name": "HTMLView",
            "description": "",
            "description_tooltip": null,
            "layout": "IPY_MODEL_ea06830458cc434f8889abe87e5b406a",
            "placeholder": "​",
            "style": "IPY_MODEL_25b2526741a245ae80ab5cf223628996",
            "value": "Downloading (…)lve/main/config.json: 100%"
          }
        },
        "e876af6a7aa34241ba3079e7b99ac3e1": {
          "model_module": "@jupyter-widgets/controls",
          "model_name": "FloatProgressModel",
          "model_module_version": "1.5.0",
          "state": {
            "_dom_classes": [],
            "_model_module": "@jupyter-widgets/controls",
            "_model_module_version": "1.5.0",
            "_model_name": "FloatProgressModel",
            "_view_count": null,
            "_view_module": "@jupyter-widgets/controls",
            "_view_module_version": "1.5.0",
            "_view_name": "ProgressView",
            "bar_style": "success",
            "description": "",
            "description_tooltip": null,
            "layout": "IPY_MODEL_d79602450c46404fb36b3d3f7d62023b",
            "max": 539,
            "min": 0,
            "orientation": "horizontal",
            "style": "IPY_MODEL_509c4fd835d54f87b7f03fa80a7628ce",
            "value": 539
          }
        },
        "9e3d72a86a3b412ab2b33354dd734d47": {
          "model_module": "@jupyter-widgets/controls",
          "model_name": "HTMLModel",
          "model_module_version": "1.5.0",
          "state": {
            "_dom_classes": [],
            "_model_module": "@jupyter-widgets/controls",
            "_model_module_version": "1.5.0",
            "_model_name": "HTMLModel",
            "_view_count": null,
            "_view_module": "@jupyter-widgets/controls",
            "_view_module_version": "1.5.0",
            "_view_name": "HTMLView",
            "description": "",
            "description_tooltip": null,
            "layout": "IPY_MODEL_bf938eb1cc9047bf91abd9c069368a55",
            "placeholder": "​",
            "style": "IPY_MODEL_ac4cc365186e449b96e31688d8862692",
            "value": " 539/539 [00:00&lt;00:00, 15.1kB/s]"
          }
        },
        "ec881334bbb54ebbbe5782699877ce27": {
          "model_module": "@jupyter-widgets/base",
          "model_name": "LayoutModel",
          "model_module_version": "1.2.0",
          "state": {
            "_model_module": "@jupyter-widgets/base",
            "_model_module_version": "1.2.0",
            "_model_name": "LayoutModel",
            "_view_count": null,
            "_view_module": "@jupyter-widgets/base",
            "_view_module_version": "1.2.0",
            "_view_name": "LayoutView",
            "align_content": null,
            "align_items": null,
            "align_self": null,
            "border": null,
            "bottom": null,
            "display": null,
            "flex": null,
            "flex_flow": null,
            "grid_area": null,
            "grid_auto_columns": null,
            "grid_auto_flow": null,
            "grid_auto_rows": null,
            "grid_column": null,
            "grid_gap": null,
            "grid_row": null,
            "grid_template_areas": null,
            "grid_template_columns": null,
            "grid_template_rows": null,
            "height": null,
            "justify_content": null,
            "justify_items": null,
            "left": null,
            "margin": null,
            "max_height": null,
            "max_width": null,
            "min_height": null,
            "min_width": null,
            "object_fit": null,
            "object_position": null,
            "order": null,
            "overflow": null,
            "overflow_x": null,
            "overflow_y": null,
            "padding": null,
            "right": null,
            "top": null,
            "visibility": null,
            "width": null
          }
        },
        "ea06830458cc434f8889abe87e5b406a": {
          "model_module": "@jupyter-widgets/base",
          "model_name": "LayoutModel",
          "model_module_version": "1.2.0",
          "state": {
            "_model_module": "@jupyter-widgets/base",
            "_model_module_version": "1.2.0",
            "_model_name": "LayoutModel",
            "_view_count": null,
            "_view_module": "@jupyter-widgets/base",
            "_view_module_version": "1.2.0",
            "_view_name": "LayoutView",
            "align_content": null,
            "align_items": null,
            "align_self": null,
            "border": null,
            "bottom": null,
            "display": null,
            "flex": null,
            "flex_flow": null,
            "grid_area": null,
            "grid_auto_columns": null,
            "grid_auto_flow": null,
            "grid_auto_rows": null,
            "grid_column": null,
            "grid_gap": null,
            "grid_row": null,
            "grid_template_areas": null,
            "grid_template_columns": null,
            "grid_template_rows": null,
            "height": null,
            "justify_content": null,
            "justify_items": null,
            "left": null,
            "margin": null,
            "max_height": null,
            "max_width": null,
            "min_height": null,
            "min_width": null,
            "object_fit": null,
            "object_position": null,
            "order": null,
            "overflow": null,
            "overflow_x": null,
            "overflow_y": null,
            "padding": null,
            "right": null,
            "top": null,
            "visibility": null,
            "width": null
          }
        },
        "25b2526741a245ae80ab5cf223628996": {
          "model_module": "@jupyter-widgets/controls",
          "model_name": "DescriptionStyleModel",
          "model_module_version": "1.5.0",
          "state": {
            "_model_module": "@jupyter-widgets/controls",
            "_model_module_version": "1.5.0",
            "_model_name": "DescriptionStyleModel",
            "_view_count": null,
            "_view_module": "@jupyter-widgets/base",
            "_view_module_version": "1.2.0",
            "_view_name": "StyleView",
            "description_width": ""
          }
        },
        "d79602450c46404fb36b3d3f7d62023b": {
          "model_module": "@jupyter-widgets/base",
          "model_name": "LayoutModel",
          "model_module_version": "1.2.0",
          "state": {
            "_model_module": "@jupyter-widgets/base",
            "_model_module_version": "1.2.0",
            "_model_name": "LayoutModel",
            "_view_count": null,
            "_view_module": "@jupyter-widgets/base",
            "_view_module_version": "1.2.0",
            "_view_name": "LayoutView",
            "align_content": null,
            "align_items": null,
            "align_self": null,
            "border": null,
            "bottom": null,
            "display": null,
            "flex": null,
            "flex_flow": null,
            "grid_area": null,
            "grid_auto_columns": null,
            "grid_auto_flow": null,
            "grid_auto_rows": null,
            "grid_column": null,
            "grid_gap": null,
            "grid_row": null,
            "grid_template_areas": null,
            "grid_template_columns": null,
            "grid_template_rows": null,
            "height": null,
            "justify_content": null,
            "justify_items": null,
            "left": null,
            "margin": null,
            "max_height": null,
            "max_width": null,
            "min_height": null,
            "min_width": null,
            "object_fit": null,
            "object_position": null,
            "order": null,
            "overflow": null,
            "overflow_x": null,
            "overflow_y": null,
            "padding": null,
            "right": null,
            "top": null,
            "visibility": null,
            "width": null
          }
        },
        "509c4fd835d54f87b7f03fa80a7628ce": {
          "model_module": "@jupyter-widgets/controls",
          "model_name": "ProgressStyleModel",
          "model_module_version": "1.5.0",
          "state": {
            "_model_module": "@jupyter-widgets/controls",
            "_model_module_version": "1.5.0",
            "_model_name": "ProgressStyleModel",
            "_view_count": null,
            "_view_module": "@jupyter-widgets/base",
            "_view_module_version": "1.2.0",
            "_view_name": "StyleView",
            "bar_color": null,
            "description_width": ""
          }
        },
        "bf938eb1cc9047bf91abd9c069368a55": {
          "model_module": "@jupyter-widgets/base",
          "model_name": "LayoutModel",
          "model_module_version": "1.2.0",
          "state": {
            "_model_module": "@jupyter-widgets/base",
            "_model_module_version": "1.2.0",
            "_model_name": "LayoutModel",
            "_view_count": null,
            "_view_module": "@jupyter-widgets/base",
            "_view_module_version": "1.2.0",
            "_view_name": "LayoutView",
            "align_content": null,
            "align_items": null,
            "align_self": null,
            "border": null,
            "bottom": null,
            "display": null,
            "flex": null,
            "flex_flow": null,
            "grid_area": null,
            "grid_auto_columns": null,
            "grid_auto_flow": null,
            "grid_auto_rows": null,
            "grid_column": null,
            "grid_gap": null,
            "grid_row": null,
            "grid_template_areas": null,
            "grid_template_columns": null,
            "grid_template_rows": null,
            "height": null,
            "justify_content": null,
            "justify_items": null,
            "left": null,
            "margin": null,
            "max_height": null,
            "max_width": null,
            "min_height": null,
            "min_width": null,
            "object_fit": null,
            "object_position": null,
            "order": null,
            "overflow": null,
            "overflow_x": null,
            "overflow_y": null,
            "padding": null,
            "right": null,
            "top": null,
            "visibility": null,
            "width": null
          }
        },
        "ac4cc365186e449b96e31688d8862692": {
          "model_module": "@jupyter-widgets/controls",
          "model_name": "DescriptionStyleModel",
          "model_module_version": "1.5.0",
          "state": {
            "_model_module": "@jupyter-widgets/controls",
            "_model_module_version": "1.5.0",
            "_model_name": "DescriptionStyleModel",
            "_view_count": null,
            "_view_module": "@jupyter-widgets/base",
            "_view_module_version": "1.2.0",
            "_view_name": "StyleView",
            "description_width": ""
          }
        },
        "5a8b555ad55b495fa7ea78a6773a1d3a": {
          "model_module": "@jupyter-widgets/controls",
          "model_name": "HBoxModel",
          "model_module_version": "1.5.0",
          "state": {
            "_dom_classes": [],
            "_model_module": "@jupyter-widgets/controls",
            "_model_module_version": "1.5.0",
            "_model_name": "HBoxModel",
            "_view_count": null,
            "_view_module": "@jupyter-widgets/controls",
            "_view_module_version": "1.5.0",
            "_view_name": "HBoxView",
            "box_style": "",
            "children": [
              "IPY_MODEL_8f8ec6c8a8674f4fa93ce55270f9bcd4",
              "IPY_MODEL_7e4bef7d3fc648a194dbbcdfbff22402",
              "IPY_MODEL_cc00c8ac5a124b73a9cb2b7cd9b149e0"
            ],
            "layout": "IPY_MODEL_230d3b7fe39a4d649889547b88624dfa"
          }
        },
        "8f8ec6c8a8674f4fa93ce55270f9bcd4": {
          "model_module": "@jupyter-widgets/controls",
          "model_name": "HTMLModel",
          "model_module_version": "1.5.0",
          "state": {
            "_dom_classes": [],
            "_model_module": "@jupyter-widgets/controls",
            "_model_module_version": "1.5.0",
            "_model_name": "HTMLModel",
            "_view_count": null,
            "_view_module": "@jupyter-widgets/controls",
            "_view_module_version": "1.5.0",
            "_view_name": "HTMLView",
            "description": "",
            "description_tooltip": null,
            "layout": "IPY_MODEL_74269fe5410e4b029d7d446e46a6b9ec",
            "placeholder": "​",
            "style": "IPY_MODEL_84654e4c344942be8eb38f035933e334",
            "value": "Downloading (…)solve/main/vocab.txt: 100%"
          }
        },
        "7e4bef7d3fc648a194dbbcdfbff22402": {
          "model_module": "@jupyter-widgets/controls",
          "model_name": "FloatProgressModel",
          "model_module_version": "1.5.0",
          "state": {
            "_dom_classes": [],
            "_model_module": "@jupyter-widgets/controls",
            "_model_module_version": "1.5.0",
            "_model_name": "FloatProgressModel",
            "_view_count": null,
            "_view_module": "@jupyter-widgets/controls",
            "_view_module_version": "1.5.0",
            "_view_name": "ProgressView",
            "bar_style": "success",
            "description": "",
            "description_tooltip": null,
            "layout": "IPY_MODEL_4e0466dfc42e4d84a4e5d3edee25d032",
            "max": 231508,
            "min": 0,
            "orientation": "horizontal",
            "style": "IPY_MODEL_dee4bb4f678c492390de7d4a9910c359",
            "value": 231508
          }
        },
        "cc00c8ac5a124b73a9cb2b7cd9b149e0": {
          "model_module": "@jupyter-widgets/controls",
          "model_name": "HTMLModel",
          "model_module_version": "1.5.0",
          "state": {
            "_dom_classes": [],
            "_model_module": "@jupyter-widgets/controls",
            "_model_module_version": "1.5.0",
            "_model_name": "HTMLModel",
            "_view_count": null,
            "_view_module": "@jupyter-widgets/controls",
            "_view_module_version": "1.5.0",
            "_view_name": "HTMLView",
            "description": "",
            "description_tooltip": null,
            "layout": "IPY_MODEL_1edfba6218c14176a0173382d160ffe9",
            "placeholder": "​",
            "style": "IPY_MODEL_2b7a13e15eee4c179c27dac6a9c110e4",
            "value": " 232k/232k [00:00&lt;00:00, 1.86MB/s]"
          }
        },
        "230d3b7fe39a4d649889547b88624dfa": {
          "model_module": "@jupyter-widgets/base",
          "model_name": "LayoutModel",
          "model_module_version": "1.2.0",
          "state": {
            "_model_module": "@jupyter-widgets/base",
            "_model_module_version": "1.2.0",
            "_model_name": "LayoutModel",
            "_view_count": null,
            "_view_module": "@jupyter-widgets/base",
            "_view_module_version": "1.2.0",
            "_view_name": "LayoutView",
            "align_content": null,
            "align_items": null,
            "align_self": null,
            "border": null,
            "bottom": null,
            "display": null,
            "flex": null,
            "flex_flow": null,
            "grid_area": null,
            "grid_auto_columns": null,
            "grid_auto_flow": null,
            "grid_auto_rows": null,
            "grid_column": null,
            "grid_gap": null,
            "grid_row": null,
            "grid_template_areas": null,
            "grid_template_columns": null,
            "grid_template_rows": null,
            "height": null,
            "justify_content": null,
            "justify_items": null,
            "left": null,
            "margin": null,
            "max_height": null,
            "max_width": null,
            "min_height": null,
            "min_width": null,
            "object_fit": null,
            "object_position": null,
            "order": null,
            "overflow": null,
            "overflow_x": null,
            "overflow_y": null,
            "padding": null,
            "right": null,
            "top": null,
            "visibility": null,
            "width": null
          }
        },
        "74269fe5410e4b029d7d446e46a6b9ec": {
          "model_module": "@jupyter-widgets/base",
          "model_name": "LayoutModel",
          "model_module_version": "1.2.0",
          "state": {
            "_model_module": "@jupyter-widgets/base",
            "_model_module_version": "1.2.0",
            "_model_name": "LayoutModel",
            "_view_count": null,
            "_view_module": "@jupyter-widgets/base",
            "_view_module_version": "1.2.0",
            "_view_name": "LayoutView",
            "align_content": null,
            "align_items": null,
            "align_self": null,
            "border": null,
            "bottom": null,
            "display": null,
            "flex": null,
            "flex_flow": null,
            "grid_area": null,
            "grid_auto_columns": null,
            "grid_auto_flow": null,
            "grid_auto_rows": null,
            "grid_column": null,
            "grid_gap": null,
            "grid_row": null,
            "grid_template_areas": null,
            "grid_template_columns": null,
            "grid_template_rows": null,
            "height": null,
            "justify_content": null,
            "justify_items": null,
            "left": null,
            "margin": null,
            "max_height": null,
            "max_width": null,
            "min_height": null,
            "min_width": null,
            "object_fit": null,
            "object_position": null,
            "order": null,
            "overflow": null,
            "overflow_x": null,
            "overflow_y": null,
            "padding": null,
            "right": null,
            "top": null,
            "visibility": null,
            "width": null
          }
        },
        "84654e4c344942be8eb38f035933e334": {
          "model_module": "@jupyter-widgets/controls",
          "model_name": "DescriptionStyleModel",
          "model_module_version": "1.5.0",
          "state": {
            "_model_module": "@jupyter-widgets/controls",
            "_model_module_version": "1.5.0",
            "_model_name": "DescriptionStyleModel",
            "_view_count": null,
            "_view_module": "@jupyter-widgets/base",
            "_view_module_version": "1.2.0",
            "_view_name": "StyleView",
            "description_width": ""
          }
        },
        "4e0466dfc42e4d84a4e5d3edee25d032": {
          "model_module": "@jupyter-widgets/base",
          "model_name": "LayoutModel",
          "model_module_version": "1.2.0",
          "state": {
            "_model_module": "@jupyter-widgets/base",
            "_model_module_version": "1.2.0",
            "_model_name": "LayoutModel",
            "_view_count": null,
            "_view_module": "@jupyter-widgets/base",
            "_view_module_version": "1.2.0",
            "_view_name": "LayoutView",
            "align_content": null,
            "align_items": null,
            "align_self": null,
            "border": null,
            "bottom": null,
            "display": null,
            "flex": null,
            "flex_flow": null,
            "grid_area": null,
            "grid_auto_columns": null,
            "grid_auto_flow": null,
            "grid_auto_rows": null,
            "grid_column": null,
            "grid_gap": null,
            "grid_row": null,
            "grid_template_areas": null,
            "grid_template_columns": null,
            "grid_template_rows": null,
            "height": null,
            "justify_content": null,
            "justify_items": null,
            "left": null,
            "margin": null,
            "max_height": null,
            "max_width": null,
            "min_height": null,
            "min_width": null,
            "object_fit": null,
            "object_position": null,
            "order": null,
            "overflow": null,
            "overflow_x": null,
            "overflow_y": null,
            "padding": null,
            "right": null,
            "top": null,
            "visibility": null,
            "width": null
          }
        },
        "dee4bb4f678c492390de7d4a9910c359": {
          "model_module": "@jupyter-widgets/controls",
          "model_name": "ProgressStyleModel",
          "model_module_version": "1.5.0",
          "state": {
            "_model_module": "@jupyter-widgets/controls",
            "_model_module_version": "1.5.0",
            "_model_name": "ProgressStyleModel",
            "_view_count": null,
            "_view_module": "@jupyter-widgets/base",
            "_view_module_version": "1.2.0",
            "_view_name": "StyleView",
            "bar_color": null,
            "description_width": ""
          }
        },
        "1edfba6218c14176a0173382d160ffe9": {
          "model_module": "@jupyter-widgets/base",
          "model_name": "LayoutModel",
          "model_module_version": "1.2.0",
          "state": {
            "_model_module": "@jupyter-widgets/base",
            "_model_module_version": "1.2.0",
            "_model_name": "LayoutModel",
            "_view_count": null,
            "_view_module": "@jupyter-widgets/base",
            "_view_module_version": "1.2.0",
            "_view_name": "LayoutView",
            "align_content": null,
            "align_items": null,
            "align_self": null,
            "border": null,
            "bottom": null,
            "display": null,
            "flex": null,
            "flex_flow": null,
            "grid_area": null,
            "grid_auto_columns": null,
            "grid_auto_flow": null,
            "grid_auto_rows": null,
            "grid_column": null,
            "grid_gap": null,
            "grid_row": null,
            "grid_template_areas": null,
            "grid_template_columns": null,
            "grid_template_rows": null,
            "height": null,
            "justify_content": null,
            "justify_items": null,
            "left": null,
            "margin": null,
            "max_height": null,
            "max_width": null,
            "min_height": null,
            "min_width": null,
            "object_fit": null,
            "object_position": null,
            "order": null,
            "overflow": null,
            "overflow_x": null,
            "overflow_y": null,
            "padding": null,
            "right": null,
            "top": null,
            "visibility": null,
            "width": null
          }
        },
        "2b7a13e15eee4c179c27dac6a9c110e4": {
          "model_module": "@jupyter-widgets/controls",
          "model_name": "DescriptionStyleModel",
          "model_module_version": "1.5.0",
          "state": {
            "_model_module": "@jupyter-widgets/controls",
            "_model_module_version": "1.5.0",
            "_model_name": "DescriptionStyleModel",
            "_view_count": null,
            "_view_module": "@jupyter-widgets/base",
            "_view_module_version": "1.2.0",
            "_view_name": "StyleView",
            "description_width": ""
          }
        },
        "2187d07e5d294a2cb628b4c9ca46b531": {
          "model_module": "@jupyter-widgets/controls",
          "model_name": "HBoxModel",
          "model_module_version": "1.5.0",
          "state": {
            "_dom_classes": [],
            "_model_module": "@jupyter-widgets/controls",
            "_model_module_version": "1.5.0",
            "_model_name": "HBoxModel",
            "_view_count": null,
            "_view_module": "@jupyter-widgets/controls",
            "_view_module_version": "1.5.0",
            "_view_name": "HBoxView",
            "box_style": "",
            "children": [
              "IPY_MODEL_cbb90a00c2204beeb9b9163119e20c44",
              "IPY_MODEL_c1b5fced86b24a78a55b32d713c6811d",
              "IPY_MODEL_cf6ca43d8c8845bdbfe1a56f073d909f"
            ],
            "layout": "IPY_MODEL_52527f12fc2046699560386e7cc05a7a"
          }
        },
        "cbb90a00c2204beeb9b9163119e20c44": {
          "model_module": "@jupyter-widgets/controls",
          "model_name": "HTMLModel",
          "model_module_version": "1.5.0",
          "state": {
            "_dom_classes": [],
            "_model_module": "@jupyter-widgets/controls",
            "_model_module_version": "1.5.0",
            "_model_name": "HTMLModel",
            "_view_count": null,
            "_view_module": "@jupyter-widgets/controls",
            "_view_module_version": "1.5.0",
            "_view_name": "HTMLView",
            "description": "",
            "description_tooltip": null,
            "layout": "IPY_MODEL_4fd5524f1ce34e7999188f38ec0b5daa",
            "placeholder": "​",
            "style": "IPY_MODEL_fa2934ec062d468b899f4ec5d3fde6c1",
            "value": "Downloading (…)/main/tokenizer.json: 100%"
          }
        },
        "c1b5fced86b24a78a55b32d713c6811d": {
          "model_module": "@jupyter-widgets/controls",
          "model_name": "FloatProgressModel",
          "model_module_version": "1.5.0",
          "state": {
            "_dom_classes": [],
            "_model_module": "@jupyter-widgets/controls",
            "_model_module_version": "1.5.0",
            "_model_name": "FloatProgressModel",
            "_view_count": null,
            "_view_module": "@jupyter-widgets/controls",
            "_view_module_version": "1.5.0",
            "_view_name": "ProgressView",
            "bar_style": "success",
            "description": "",
            "description_tooltip": null,
            "layout": "IPY_MODEL_7aa0281664f641e29b52524db9b39441",
            "max": 466081,
            "min": 0,
            "orientation": "horizontal",
            "style": "IPY_MODEL_efbeff01966d475686c2d7aa098ee9f0",
            "value": 466081
          }
        },
        "cf6ca43d8c8845bdbfe1a56f073d909f": {
          "model_module": "@jupyter-widgets/controls",
          "model_name": "HTMLModel",
          "model_module_version": "1.5.0",
          "state": {
            "_dom_classes": [],
            "_model_module": "@jupyter-widgets/controls",
            "_model_module_version": "1.5.0",
            "_model_name": "HTMLModel",
            "_view_count": null,
            "_view_module": "@jupyter-widgets/controls",
            "_view_module_version": "1.5.0",
            "_view_name": "HTMLView",
            "description": "",
            "description_tooltip": null,
            "layout": "IPY_MODEL_8c428c2e46d14e80b91dbc05e076b6a1",
            "placeholder": "​",
            "style": "IPY_MODEL_67ad0aaa858646e1975fea005cf8f15d",
            "value": " 466k/466k [00:00&lt;00:00, 3.50MB/s]"
          }
        },
        "52527f12fc2046699560386e7cc05a7a": {
          "model_module": "@jupyter-widgets/base",
          "model_name": "LayoutModel",
          "model_module_version": "1.2.0",
          "state": {
            "_model_module": "@jupyter-widgets/base",
            "_model_module_version": "1.2.0",
            "_model_name": "LayoutModel",
            "_view_count": null,
            "_view_module": "@jupyter-widgets/base",
            "_view_module_version": "1.2.0",
            "_view_name": "LayoutView",
            "align_content": null,
            "align_items": null,
            "align_self": null,
            "border": null,
            "bottom": null,
            "display": null,
            "flex": null,
            "flex_flow": null,
            "grid_area": null,
            "grid_auto_columns": null,
            "grid_auto_flow": null,
            "grid_auto_rows": null,
            "grid_column": null,
            "grid_gap": null,
            "grid_row": null,
            "grid_template_areas": null,
            "grid_template_columns": null,
            "grid_template_rows": null,
            "height": null,
            "justify_content": null,
            "justify_items": null,
            "left": null,
            "margin": null,
            "max_height": null,
            "max_width": null,
            "min_height": null,
            "min_width": null,
            "object_fit": null,
            "object_position": null,
            "order": null,
            "overflow": null,
            "overflow_x": null,
            "overflow_y": null,
            "padding": null,
            "right": null,
            "top": null,
            "visibility": null,
            "width": null
          }
        },
        "4fd5524f1ce34e7999188f38ec0b5daa": {
          "model_module": "@jupyter-widgets/base",
          "model_name": "LayoutModel",
          "model_module_version": "1.2.0",
          "state": {
            "_model_module": "@jupyter-widgets/base",
            "_model_module_version": "1.2.0",
            "_model_name": "LayoutModel",
            "_view_count": null,
            "_view_module": "@jupyter-widgets/base",
            "_view_module_version": "1.2.0",
            "_view_name": "LayoutView",
            "align_content": null,
            "align_items": null,
            "align_self": null,
            "border": null,
            "bottom": null,
            "display": null,
            "flex": null,
            "flex_flow": null,
            "grid_area": null,
            "grid_auto_columns": null,
            "grid_auto_flow": null,
            "grid_auto_rows": null,
            "grid_column": null,
            "grid_gap": null,
            "grid_row": null,
            "grid_template_areas": null,
            "grid_template_columns": null,
            "grid_template_rows": null,
            "height": null,
            "justify_content": null,
            "justify_items": null,
            "left": null,
            "margin": null,
            "max_height": null,
            "max_width": null,
            "min_height": null,
            "min_width": null,
            "object_fit": null,
            "object_position": null,
            "order": null,
            "overflow": null,
            "overflow_x": null,
            "overflow_y": null,
            "padding": null,
            "right": null,
            "top": null,
            "visibility": null,
            "width": null
          }
        },
        "fa2934ec062d468b899f4ec5d3fde6c1": {
          "model_module": "@jupyter-widgets/controls",
          "model_name": "DescriptionStyleModel",
          "model_module_version": "1.5.0",
          "state": {
            "_model_module": "@jupyter-widgets/controls",
            "_model_module_version": "1.5.0",
            "_model_name": "DescriptionStyleModel",
            "_view_count": null,
            "_view_module": "@jupyter-widgets/base",
            "_view_module_version": "1.2.0",
            "_view_name": "StyleView",
            "description_width": ""
          }
        },
        "7aa0281664f641e29b52524db9b39441": {
          "model_module": "@jupyter-widgets/base",
          "model_name": "LayoutModel",
          "model_module_version": "1.2.0",
          "state": {
            "_model_module": "@jupyter-widgets/base",
            "_model_module_version": "1.2.0",
            "_model_name": "LayoutModel",
            "_view_count": null,
            "_view_module": "@jupyter-widgets/base",
            "_view_module_version": "1.2.0",
            "_view_name": "LayoutView",
            "align_content": null,
            "align_items": null,
            "align_self": null,
            "border": null,
            "bottom": null,
            "display": null,
            "flex": null,
            "flex_flow": null,
            "grid_area": null,
            "grid_auto_columns": null,
            "grid_auto_flow": null,
            "grid_auto_rows": null,
            "grid_column": null,
            "grid_gap": null,
            "grid_row": null,
            "grid_template_areas": null,
            "grid_template_columns": null,
            "grid_template_rows": null,
            "height": null,
            "justify_content": null,
            "justify_items": null,
            "left": null,
            "margin": null,
            "max_height": null,
            "max_width": null,
            "min_height": null,
            "min_width": null,
            "object_fit": null,
            "object_position": null,
            "order": null,
            "overflow": null,
            "overflow_x": null,
            "overflow_y": null,
            "padding": null,
            "right": null,
            "top": null,
            "visibility": null,
            "width": null
          }
        },
        "efbeff01966d475686c2d7aa098ee9f0": {
          "model_module": "@jupyter-widgets/controls",
          "model_name": "ProgressStyleModel",
          "model_module_version": "1.5.0",
          "state": {
            "_model_module": "@jupyter-widgets/controls",
            "_model_module_version": "1.5.0",
            "_model_name": "ProgressStyleModel",
            "_view_count": null,
            "_view_module": "@jupyter-widgets/base",
            "_view_module_version": "1.2.0",
            "_view_name": "StyleView",
            "bar_color": null,
            "description_width": ""
          }
        },
        "8c428c2e46d14e80b91dbc05e076b6a1": {
          "model_module": "@jupyter-widgets/base",
          "model_name": "LayoutModel",
          "model_module_version": "1.2.0",
          "state": {
            "_model_module": "@jupyter-widgets/base",
            "_model_module_version": "1.2.0",
            "_model_name": "LayoutModel",
            "_view_count": null,
            "_view_module": "@jupyter-widgets/base",
            "_view_module_version": "1.2.0",
            "_view_name": "LayoutView",
            "align_content": null,
            "align_items": null,
            "align_self": null,
            "border": null,
            "bottom": null,
            "display": null,
            "flex": null,
            "flex_flow": null,
            "grid_area": null,
            "grid_auto_columns": null,
            "grid_auto_flow": null,
            "grid_auto_rows": null,
            "grid_column": null,
            "grid_gap": null,
            "grid_row": null,
            "grid_template_areas": null,
            "grid_template_columns": null,
            "grid_template_rows": null,
            "height": null,
            "justify_content": null,
            "justify_items": null,
            "left": null,
            "margin": null,
            "max_height": null,
            "max_width": null,
            "min_height": null,
            "min_width": null,
            "object_fit": null,
            "object_position": null,
            "order": null,
            "overflow": null,
            "overflow_x": null,
            "overflow_y": null,
            "padding": null,
            "right": null,
            "top": null,
            "visibility": null,
            "width": null
          }
        },
        "67ad0aaa858646e1975fea005cf8f15d": {
          "model_module": "@jupyter-widgets/controls",
          "model_name": "DescriptionStyleModel",
          "model_module_version": "1.5.0",
          "state": {
            "_model_module": "@jupyter-widgets/controls",
            "_model_module_version": "1.5.0",
            "_model_name": "DescriptionStyleModel",
            "_view_count": null,
            "_view_module": "@jupyter-widgets/base",
            "_view_module_version": "1.2.0",
            "_view_name": "StyleView",
            "description_width": ""
          }
        },
        "ff94ed050f9c459f83a629adb66e1568": {
          "model_module": "@jupyter-widgets/controls",
          "model_name": "HBoxModel",
          "model_module_version": "1.5.0",
          "state": {
            "_dom_classes": [],
            "_model_module": "@jupyter-widgets/controls",
            "_model_module_version": "1.5.0",
            "_model_name": "HBoxModel",
            "_view_count": null,
            "_view_module": "@jupyter-widgets/controls",
            "_view_module_version": "1.5.0",
            "_view_name": "HBoxView",
            "box_style": "",
            "children": [
              "IPY_MODEL_d82edc2772374c1ca9cdd362cd4288fa",
              "IPY_MODEL_976bdf16cf654e39b0eaa13a4d577040",
              "IPY_MODEL_a84507e80e6749c99a51f4130542f78c"
            ],
            "layout": "IPY_MODEL_8950d44f8a4b40928d43da3fb40d35fa"
          }
        },
        "d82edc2772374c1ca9cdd362cd4288fa": {
          "model_module": "@jupyter-widgets/controls",
          "model_name": "HTMLModel",
          "model_module_version": "1.5.0",
          "state": {
            "_dom_classes": [],
            "_model_module": "@jupyter-widgets/controls",
            "_model_module_version": "1.5.0",
            "_model_name": "HTMLModel",
            "_view_count": null,
            "_view_module": "@jupyter-widgets/controls",
            "_view_module_version": "1.5.0",
            "_view_name": "HTMLView",
            "description": "",
            "description_tooltip": null,
            "layout": "IPY_MODEL_dfe5696c3c5f445684c0d4009cf101ee",
            "placeholder": "​",
            "style": "IPY_MODEL_7ea1421c903e4b10bede8dde38932b5e",
            "value": "Downloading (…)cial_tokens_map.json: 100%"
          }
        },
        "976bdf16cf654e39b0eaa13a4d577040": {
          "model_module": "@jupyter-widgets/controls",
          "model_name": "FloatProgressModel",
          "model_module_version": "1.5.0",
          "state": {
            "_dom_classes": [],
            "_model_module": "@jupyter-widgets/controls",
            "_model_module_version": "1.5.0",
            "_model_name": "FloatProgressModel",
            "_view_count": null,
            "_view_module": "@jupyter-widgets/controls",
            "_view_module_version": "1.5.0",
            "_view_name": "ProgressView",
            "bar_style": "success",
            "description": "",
            "description_tooltip": null,
            "layout": "IPY_MODEL_3dc42a62823e4bfb8ef9360bf46c93c5",
            "max": 112,
            "min": 0,
            "orientation": "horizontal",
            "style": "IPY_MODEL_030adcc00d4b4d7d95a8ba93eb085cd2",
            "value": 112
          }
        },
        "a84507e80e6749c99a51f4130542f78c": {
          "model_module": "@jupyter-widgets/controls",
          "model_name": "HTMLModel",
          "model_module_version": "1.5.0",
          "state": {
            "_dom_classes": [],
            "_model_module": "@jupyter-widgets/controls",
            "_model_module_version": "1.5.0",
            "_model_name": "HTMLModel",
            "_view_count": null,
            "_view_module": "@jupyter-widgets/controls",
            "_view_module_version": "1.5.0",
            "_view_name": "HTMLView",
            "description": "",
            "description_tooltip": null,
            "layout": "IPY_MODEL_58088754a61c487d83a8e28115a4e4bf",
            "placeholder": "​",
            "style": "IPY_MODEL_b8d0a3318b1546bc90b6826491615efb",
            "value": " 112/112 [00:00&lt;00:00, 3.29kB/s]"
          }
        },
        "8950d44f8a4b40928d43da3fb40d35fa": {
          "model_module": "@jupyter-widgets/base",
          "model_name": "LayoutModel",
          "model_module_version": "1.2.0",
          "state": {
            "_model_module": "@jupyter-widgets/base",
            "_model_module_version": "1.2.0",
            "_model_name": "LayoutModel",
            "_view_count": null,
            "_view_module": "@jupyter-widgets/base",
            "_view_module_version": "1.2.0",
            "_view_name": "LayoutView",
            "align_content": null,
            "align_items": null,
            "align_self": null,
            "border": null,
            "bottom": null,
            "display": null,
            "flex": null,
            "flex_flow": null,
            "grid_area": null,
            "grid_auto_columns": null,
            "grid_auto_flow": null,
            "grid_auto_rows": null,
            "grid_column": null,
            "grid_gap": null,
            "grid_row": null,
            "grid_template_areas": null,
            "grid_template_columns": null,
            "grid_template_rows": null,
            "height": null,
            "justify_content": null,
            "justify_items": null,
            "left": null,
            "margin": null,
            "max_height": null,
            "max_width": null,
            "min_height": null,
            "min_width": null,
            "object_fit": null,
            "object_position": null,
            "order": null,
            "overflow": null,
            "overflow_x": null,
            "overflow_y": null,
            "padding": null,
            "right": null,
            "top": null,
            "visibility": null,
            "width": null
          }
        },
        "dfe5696c3c5f445684c0d4009cf101ee": {
          "model_module": "@jupyter-widgets/base",
          "model_name": "LayoutModel",
          "model_module_version": "1.2.0",
          "state": {
            "_model_module": "@jupyter-widgets/base",
            "_model_module_version": "1.2.0",
            "_model_name": "LayoutModel",
            "_view_count": null,
            "_view_module": "@jupyter-widgets/base",
            "_view_module_version": "1.2.0",
            "_view_name": "LayoutView",
            "align_content": null,
            "align_items": null,
            "align_self": null,
            "border": null,
            "bottom": null,
            "display": null,
            "flex": null,
            "flex_flow": null,
            "grid_area": null,
            "grid_auto_columns": null,
            "grid_auto_flow": null,
            "grid_auto_rows": null,
            "grid_column": null,
            "grid_gap": null,
            "grid_row": null,
            "grid_template_areas": null,
            "grid_template_columns": null,
            "grid_template_rows": null,
            "height": null,
            "justify_content": null,
            "justify_items": null,
            "left": null,
            "margin": null,
            "max_height": null,
            "max_width": null,
            "min_height": null,
            "min_width": null,
            "object_fit": null,
            "object_position": null,
            "order": null,
            "overflow": null,
            "overflow_x": null,
            "overflow_y": null,
            "padding": null,
            "right": null,
            "top": null,
            "visibility": null,
            "width": null
          }
        },
        "7ea1421c903e4b10bede8dde38932b5e": {
          "model_module": "@jupyter-widgets/controls",
          "model_name": "DescriptionStyleModel",
          "model_module_version": "1.5.0",
          "state": {
            "_model_module": "@jupyter-widgets/controls",
            "_model_module_version": "1.5.0",
            "_model_name": "DescriptionStyleModel",
            "_view_count": null,
            "_view_module": "@jupyter-widgets/base",
            "_view_module_version": "1.2.0",
            "_view_name": "StyleView",
            "description_width": ""
          }
        },
        "3dc42a62823e4bfb8ef9360bf46c93c5": {
          "model_module": "@jupyter-widgets/base",
          "model_name": "LayoutModel",
          "model_module_version": "1.2.0",
          "state": {
            "_model_module": "@jupyter-widgets/base",
            "_model_module_version": "1.2.0",
            "_model_name": "LayoutModel",
            "_view_count": null,
            "_view_module": "@jupyter-widgets/base",
            "_view_module_version": "1.2.0",
            "_view_name": "LayoutView",
            "align_content": null,
            "align_items": null,
            "align_self": null,
            "border": null,
            "bottom": null,
            "display": null,
            "flex": null,
            "flex_flow": null,
            "grid_area": null,
            "grid_auto_columns": null,
            "grid_auto_flow": null,
            "grid_auto_rows": null,
            "grid_column": null,
            "grid_gap": null,
            "grid_row": null,
            "grid_template_areas": null,
            "grid_template_columns": null,
            "grid_template_rows": null,
            "height": null,
            "justify_content": null,
            "justify_items": null,
            "left": null,
            "margin": null,
            "max_height": null,
            "max_width": null,
            "min_height": null,
            "min_width": null,
            "object_fit": null,
            "object_position": null,
            "order": null,
            "overflow": null,
            "overflow_x": null,
            "overflow_y": null,
            "padding": null,
            "right": null,
            "top": null,
            "visibility": null,
            "width": null
          }
        },
        "030adcc00d4b4d7d95a8ba93eb085cd2": {
          "model_module": "@jupyter-widgets/controls",
          "model_name": "ProgressStyleModel",
          "model_module_version": "1.5.0",
          "state": {
            "_model_module": "@jupyter-widgets/controls",
            "_model_module_version": "1.5.0",
            "_model_name": "ProgressStyleModel",
            "_view_count": null,
            "_view_module": "@jupyter-widgets/base",
            "_view_module_version": "1.2.0",
            "_view_name": "StyleView",
            "bar_color": null,
            "description_width": ""
          }
        },
        "58088754a61c487d83a8e28115a4e4bf": {
          "model_module": "@jupyter-widgets/base",
          "model_name": "LayoutModel",
          "model_module_version": "1.2.0",
          "state": {
            "_model_module": "@jupyter-widgets/base",
            "_model_module_version": "1.2.0",
            "_model_name": "LayoutModel",
            "_view_count": null,
            "_view_module": "@jupyter-widgets/base",
            "_view_module_version": "1.2.0",
            "_view_name": "LayoutView",
            "align_content": null,
            "align_items": null,
            "align_self": null,
            "border": null,
            "bottom": null,
            "display": null,
            "flex": null,
            "flex_flow": null,
            "grid_area": null,
            "grid_auto_columns": null,
            "grid_auto_flow": null,
            "grid_auto_rows": null,
            "grid_column": null,
            "grid_gap": null,
            "grid_row": null,
            "grid_template_areas": null,
            "grid_template_columns": null,
            "grid_template_rows": null,
            "height": null,
            "justify_content": null,
            "justify_items": null,
            "left": null,
            "margin": null,
            "max_height": null,
            "max_width": null,
            "min_height": null,
            "min_width": null,
            "object_fit": null,
            "object_position": null,
            "order": null,
            "overflow": null,
            "overflow_x": null,
            "overflow_y": null,
            "padding": null,
            "right": null,
            "top": null,
            "visibility": null,
            "width": null
          }
        },
        "b8d0a3318b1546bc90b6826491615efb": {
          "model_module": "@jupyter-widgets/controls",
          "model_name": "DescriptionStyleModel",
          "model_module_version": "1.5.0",
          "state": {
            "_model_module": "@jupyter-widgets/controls",
            "_model_module_version": "1.5.0",
            "_model_name": "DescriptionStyleModel",
            "_view_count": null,
            "_view_module": "@jupyter-widgets/base",
            "_view_module_version": "1.2.0",
            "_view_name": "StyleView",
            "description_width": ""
          }
        },
        "8271314dbfc3430585a283008c46a640": {
          "model_module": "@jupyter-widgets/controls",
          "model_name": "HBoxModel",
          "model_module_version": "1.5.0",
          "state": {
            "_dom_classes": [],
            "_model_module": "@jupyter-widgets/controls",
            "_model_module_version": "1.5.0",
            "_model_name": "HBoxModel",
            "_view_count": null,
            "_view_module": "@jupyter-widgets/controls",
            "_view_module_version": "1.5.0",
            "_view_name": "HBoxView",
            "box_style": "",
            "children": [
              "IPY_MODEL_db514352689243129496fef06bb2084d",
              "IPY_MODEL_5a15cc0909444f0c9e3118f3080da2d1",
              "IPY_MODEL_63c8f345063a47f7a409208e51694d10"
            ],
            "layout": "IPY_MODEL_8f75d18dc550408c89f31757003f276f"
          }
        },
        "db514352689243129496fef06bb2084d": {
          "model_module": "@jupyter-widgets/controls",
          "model_name": "HTMLModel",
          "model_module_version": "1.5.0",
          "state": {
            "_dom_classes": [],
            "_model_module": "@jupyter-widgets/controls",
            "_model_module_version": "1.5.0",
            "_model_name": "HTMLModel",
            "_view_count": null,
            "_view_module": "@jupyter-widgets/controls",
            "_view_module_version": "1.5.0",
            "_view_name": "HTMLView",
            "description": "",
            "description_tooltip": null,
            "layout": "IPY_MODEL_a2184084f28e423e977f4033a9824f32",
            "placeholder": "​",
            "style": "IPY_MODEL_77d9547b141044d4b4954f49ac44c8e1",
            "value": "Downloading pytorch_model.bin: 100%"
          }
        },
        "5a15cc0909444f0c9e3118f3080da2d1": {
          "model_module": "@jupyter-widgets/controls",
          "model_name": "FloatProgressModel",
          "model_module_version": "1.5.0",
          "state": {
            "_dom_classes": [],
            "_model_module": "@jupyter-widgets/controls",
            "_model_module_version": "1.5.0",
            "_model_name": "FloatProgressModel",
            "_view_count": null,
            "_view_module": "@jupyter-widgets/controls",
            "_view_module_version": "1.5.0",
            "_view_name": "ProgressView",
            "bar_style": "success",
            "description": "",
            "description_tooltip": null,
            "layout": "IPY_MODEL_31515177de6848a0a535452920873b48",
            "max": 265486777,
            "min": 0,
            "orientation": "horizontal",
            "style": "IPY_MODEL_a774e9dc8bf74eef9e3a41c122907897",
            "value": 265486777
          }
        },
        "63c8f345063a47f7a409208e51694d10": {
          "model_module": "@jupyter-widgets/controls",
          "model_name": "HTMLModel",
          "model_module_version": "1.5.0",
          "state": {
            "_dom_classes": [],
            "_model_module": "@jupyter-widgets/controls",
            "_model_module_version": "1.5.0",
            "_model_name": "HTMLModel",
            "_view_count": null,
            "_view_module": "@jupyter-widgets/controls",
            "_view_module_version": "1.5.0",
            "_view_name": "HTMLView",
            "description": "",
            "description_tooltip": null,
            "layout": "IPY_MODEL_5b7da50420e748a9bbe01786315da2d5",
            "placeholder": "​",
            "style": "IPY_MODEL_5f2b7acf300e4646b3dd0385000efd1b",
            "value": " 265M/265M [00:04&lt;00:00, 60.1MB/s]"
          }
        },
        "8f75d18dc550408c89f31757003f276f": {
          "model_module": "@jupyter-widgets/base",
          "model_name": "LayoutModel",
          "model_module_version": "1.2.0",
          "state": {
            "_model_module": "@jupyter-widgets/base",
            "_model_module_version": "1.2.0",
            "_model_name": "LayoutModel",
            "_view_count": null,
            "_view_module": "@jupyter-widgets/base",
            "_view_module_version": "1.2.0",
            "_view_name": "LayoutView",
            "align_content": null,
            "align_items": null,
            "align_self": null,
            "border": null,
            "bottom": null,
            "display": null,
            "flex": null,
            "flex_flow": null,
            "grid_area": null,
            "grid_auto_columns": null,
            "grid_auto_flow": null,
            "grid_auto_rows": null,
            "grid_column": null,
            "grid_gap": null,
            "grid_row": null,
            "grid_template_areas": null,
            "grid_template_columns": null,
            "grid_template_rows": null,
            "height": null,
            "justify_content": null,
            "justify_items": null,
            "left": null,
            "margin": null,
            "max_height": null,
            "max_width": null,
            "min_height": null,
            "min_width": null,
            "object_fit": null,
            "object_position": null,
            "order": null,
            "overflow": null,
            "overflow_x": null,
            "overflow_y": null,
            "padding": null,
            "right": null,
            "top": null,
            "visibility": null,
            "width": null
          }
        },
        "a2184084f28e423e977f4033a9824f32": {
          "model_module": "@jupyter-widgets/base",
          "model_name": "LayoutModel",
          "model_module_version": "1.2.0",
          "state": {
            "_model_module": "@jupyter-widgets/base",
            "_model_module_version": "1.2.0",
            "_model_name": "LayoutModel",
            "_view_count": null,
            "_view_module": "@jupyter-widgets/base",
            "_view_module_version": "1.2.0",
            "_view_name": "LayoutView",
            "align_content": null,
            "align_items": null,
            "align_self": null,
            "border": null,
            "bottom": null,
            "display": null,
            "flex": null,
            "flex_flow": null,
            "grid_area": null,
            "grid_auto_columns": null,
            "grid_auto_flow": null,
            "grid_auto_rows": null,
            "grid_column": null,
            "grid_gap": null,
            "grid_row": null,
            "grid_template_areas": null,
            "grid_template_columns": null,
            "grid_template_rows": null,
            "height": null,
            "justify_content": null,
            "justify_items": null,
            "left": null,
            "margin": null,
            "max_height": null,
            "max_width": null,
            "min_height": null,
            "min_width": null,
            "object_fit": null,
            "object_position": null,
            "order": null,
            "overflow": null,
            "overflow_x": null,
            "overflow_y": null,
            "padding": null,
            "right": null,
            "top": null,
            "visibility": null,
            "width": null
          }
        },
        "77d9547b141044d4b4954f49ac44c8e1": {
          "model_module": "@jupyter-widgets/controls",
          "model_name": "DescriptionStyleModel",
          "model_module_version": "1.5.0",
          "state": {
            "_model_module": "@jupyter-widgets/controls",
            "_model_module_version": "1.5.0",
            "_model_name": "DescriptionStyleModel",
            "_view_count": null,
            "_view_module": "@jupyter-widgets/base",
            "_view_module_version": "1.2.0",
            "_view_name": "StyleView",
            "description_width": ""
          }
        },
        "31515177de6848a0a535452920873b48": {
          "model_module": "@jupyter-widgets/base",
          "model_name": "LayoutModel",
          "model_module_version": "1.2.0",
          "state": {
            "_model_module": "@jupyter-widgets/base",
            "_model_module_version": "1.2.0",
            "_model_name": "LayoutModel",
            "_view_count": null,
            "_view_module": "@jupyter-widgets/base",
            "_view_module_version": "1.2.0",
            "_view_name": "LayoutView",
            "align_content": null,
            "align_items": null,
            "align_self": null,
            "border": null,
            "bottom": null,
            "display": null,
            "flex": null,
            "flex_flow": null,
            "grid_area": null,
            "grid_auto_columns": null,
            "grid_auto_flow": null,
            "grid_auto_rows": null,
            "grid_column": null,
            "grid_gap": null,
            "grid_row": null,
            "grid_template_areas": null,
            "grid_template_columns": null,
            "grid_template_rows": null,
            "height": null,
            "justify_content": null,
            "justify_items": null,
            "left": null,
            "margin": null,
            "max_height": null,
            "max_width": null,
            "min_height": null,
            "min_width": null,
            "object_fit": null,
            "object_position": null,
            "order": null,
            "overflow": null,
            "overflow_x": null,
            "overflow_y": null,
            "padding": null,
            "right": null,
            "top": null,
            "visibility": null,
            "width": null
          }
        },
        "a774e9dc8bf74eef9e3a41c122907897": {
          "model_module": "@jupyter-widgets/controls",
          "model_name": "ProgressStyleModel",
          "model_module_version": "1.5.0",
          "state": {
            "_model_module": "@jupyter-widgets/controls",
            "_model_module_version": "1.5.0",
            "_model_name": "ProgressStyleModel",
            "_view_count": null,
            "_view_module": "@jupyter-widgets/base",
            "_view_module_version": "1.2.0",
            "_view_name": "StyleView",
            "bar_color": null,
            "description_width": ""
          }
        },
        "5b7da50420e748a9bbe01786315da2d5": {
          "model_module": "@jupyter-widgets/base",
          "model_name": "LayoutModel",
          "model_module_version": "1.2.0",
          "state": {
            "_model_module": "@jupyter-widgets/base",
            "_model_module_version": "1.2.0",
            "_model_name": "LayoutModel",
            "_view_count": null,
            "_view_module": "@jupyter-widgets/base",
            "_view_module_version": "1.2.0",
            "_view_name": "LayoutView",
            "align_content": null,
            "align_items": null,
            "align_self": null,
            "border": null,
            "bottom": null,
            "display": null,
            "flex": null,
            "flex_flow": null,
            "grid_area": null,
            "grid_auto_columns": null,
            "grid_auto_flow": null,
            "grid_auto_rows": null,
            "grid_column": null,
            "grid_gap": null,
            "grid_row": null,
            "grid_template_areas": null,
            "grid_template_columns": null,
            "grid_template_rows": null,
            "height": null,
            "justify_content": null,
            "justify_items": null,
            "left": null,
            "margin": null,
            "max_height": null,
            "max_width": null,
            "min_height": null,
            "min_width": null,
            "object_fit": null,
            "object_position": null,
            "order": null,
            "overflow": null,
            "overflow_x": null,
            "overflow_y": null,
            "padding": null,
            "right": null,
            "top": null,
            "visibility": null,
            "width": null
          }
        },
        "5f2b7acf300e4646b3dd0385000efd1b": {
          "model_module": "@jupyter-widgets/controls",
          "model_name": "DescriptionStyleModel",
          "model_module_version": "1.5.0",
          "state": {
            "_model_module": "@jupyter-widgets/controls",
            "_model_module_version": "1.5.0",
            "_model_name": "DescriptionStyleModel",
            "_view_count": null,
            "_view_module": "@jupyter-widgets/base",
            "_view_module_version": "1.2.0",
            "_view_name": "StyleView",
            "description_width": ""
          }
        }
      }
    }
  },
  "cells": [
    {
      "cell_type": "markdown",
      "metadata": {
        "id": "view-in-github",
        "colab_type": "text"
      },
      "source": [
        "<a href=\"https://colab.research.google.com/github/Azizkhaled/NLP_with_Aziz/blob/main/Similarity_1.ipynb\" target=\"_parent\"><img src=\"https://colab.research.google.com/assets/colab-badge.svg\" alt=\"Open In Colab\"/></a>"
      ]
    },
    {
      "cell_type": "code",
      "source": [
        "pip install transformers"
      ],
      "metadata": {
        "id": "Qsszh_0IUx0v"
      },
      "execution_count": null,
      "outputs": []
    },
    {
      "cell_type": "markdown",
      "source": [
        "## Building Dense Vectors Using Transformers"
      ],
      "metadata": {
        "id": "rv9J5Da0V1ra"
      }
    },
    {
      "cell_type": "markdown",
      "source": [
        "From hugging face, We will be using the [sentence-transformers/stsb-distilbert-base](https://huggingface.co/sentence-transformers/stsb-distilbert-base) model to build our dense vectors."
      ],
      "metadata": {
        "id": "Z6qjgJvxV6aU"
      }
    },
    {
      "cell_type": "markdown",
      "source": [
        "### Initialize our model and tokenizer:"
      ],
      "metadata": {
        "id": "yvwrh-QuWF1y"
      }
    },
    {
      "cell_type": "code",
      "source": [
        "from transformers import AutoTokenizer, AutoModel\n",
        "import torch"
      ],
      "metadata": {
        "id": "oE46mCNzUk6u"
      },
      "execution_count": 4,
      "outputs": []
    },
    {
      "cell_type": "code",
      "source": [
        "tokenizer = AutoTokenizer.from_pretrained('sentence-transformers/stsb-distilbert-base')\n",
        "model = AutoModel.from_pretrained('sentence-transformers/stsb-distilbert-base')"
      ],
      "metadata": {
        "colab": {
          "base_uri": "https://localhost:8080/",
          "height": 209,
          "referenced_widgets": [
            "e90ffee4fcd543d79b942de4817d2daa",
            "15aea662cdac4f4abbce20f586870b1e",
            "83d43cd156274f07ba2c931af64a3fc1",
            "c91f46bd34844686b42d52f4e055b0b8",
            "c5fc2caede5947afbf423925903ac419",
            "367f3c1be4d64009bffe2e1f2e642985",
            "4006dd233f3a41ffad18911cd4f52c6e",
            "273defa5dea3404abb4777e5339df866",
            "5ad84774d5a84778b7d3455a0b1b4d47",
            "321b91c1ee6d4e6e9477e7ddd15286f7",
            "21158e097623489bbc21d2cf0018122c",
            "e48eac4a9a9a4e2fb5f0d6cf6b753660",
            "c1a0d103c33e4c578a95a0af1f00cf62",
            "e876af6a7aa34241ba3079e7b99ac3e1",
            "9e3d72a86a3b412ab2b33354dd734d47",
            "ec881334bbb54ebbbe5782699877ce27",
            "ea06830458cc434f8889abe87e5b406a",
            "25b2526741a245ae80ab5cf223628996",
            "d79602450c46404fb36b3d3f7d62023b",
            "509c4fd835d54f87b7f03fa80a7628ce",
            "bf938eb1cc9047bf91abd9c069368a55",
            "ac4cc365186e449b96e31688d8862692",
            "5a8b555ad55b495fa7ea78a6773a1d3a",
            "8f8ec6c8a8674f4fa93ce55270f9bcd4",
            "7e4bef7d3fc648a194dbbcdfbff22402",
            "cc00c8ac5a124b73a9cb2b7cd9b149e0",
            "230d3b7fe39a4d649889547b88624dfa",
            "74269fe5410e4b029d7d446e46a6b9ec",
            "84654e4c344942be8eb38f035933e334",
            "4e0466dfc42e4d84a4e5d3edee25d032",
            "dee4bb4f678c492390de7d4a9910c359",
            "1edfba6218c14176a0173382d160ffe9",
            "2b7a13e15eee4c179c27dac6a9c110e4",
            "2187d07e5d294a2cb628b4c9ca46b531",
            "cbb90a00c2204beeb9b9163119e20c44",
            "c1b5fced86b24a78a55b32d713c6811d",
            "cf6ca43d8c8845bdbfe1a56f073d909f",
            "52527f12fc2046699560386e7cc05a7a",
            "4fd5524f1ce34e7999188f38ec0b5daa",
            "fa2934ec062d468b899f4ec5d3fde6c1",
            "7aa0281664f641e29b52524db9b39441",
            "efbeff01966d475686c2d7aa098ee9f0",
            "8c428c2e46d14e80b91dbc05e076b6a1",
            "67ad0aaa858646e1975fea005cf8f15d",
            "ff94ed050f9c459f83a629adb66e1568",
            "d82edc2772374c1ca9cdd362cd4288fa",
            "976bdf16cf654e39b0eaa13a4d577040",
            "a84507e80e6749c99a51f4130542f78c",
            "8950d44f8a4b40928d43da3fb40d35fa",
            "dfe5696c3c5f445684c0d4009cf101ee",
            "7ea1421c903e4b10bede8dde38932b5e",
            "3dc42a62823e4bfb8ef9360bf46c93c5",
            "030adcc00d4b4d7d95a8ba93eb085cd2",
            "58088754a61c487d83a8e28115a4e4bf",
            "b8d0a3318b1546bc90b6826491615efb",
            "8271314dbfc3430585a283008c46a640",
            "db514352689243129496fef06bb2084d",
            "5a15cc0909444f0c9e3118f3080da2d1",
            "63c8f345063a47f7a409208e51694d10",
            "8f75d18dc550408c89f31757003f276f",
            "a2184084f28e423e977f4033a9824f32",
            "77d9547b141044d4b4954f49ac44c8e1",
            "31515177de6848a0a535452920873b48",
            "a774e9dc8bf74eef9e3a41c122907897",
            "5b7da50420e748a9bbe01786315da2d5",
            "5f2b7acf300e4646b3dd0385000efd1b"
          ]
        },
        "id": "Ad3gzd5OUwCW",
        "outputId": "118fcbac-e847-4430-d022-a3a6c1a7c5a0"
      },
      "execution_count": 5,
      "outputs": [
        {
          "output_type": "display_data",
          "data": {
            "text/plain": [
              "Downloading (…)okenizer_config.json:   0%|          | 0.00/489 [00:00<?, ?B/s]"
            ],
            "application/vnd.jupyter.widget-view+json": {
              "version_major": 2,
              "version_minor": 0,
              "model_id": "e90ffee4fcd543d79b942de4817d2daa"
            }
          },
          "metadata": {}
        },
        {
          "output_type": "display_data",
          "data": {
            "text/plain": [
              "Downloading (…)lve/main/config.json:   0%|          | 0.00/539 [00:00<?, ?B/s]"
            ],
            "application/vnd.jupyter.widget-view+json": {
              "version_major": 2,
              "version_minor": 0,
              "model_id": "e48eac4a9a9a4e2fb5f0d6cf6b753660"
            }
          },
          "metadata": {}
        },
        {
          "output_type": "display_data",
          "data": {
            "text/plain": [
              "Downloading (…)solve/main/vocab.txt:   0%|          | 0.00/232k [00:00<?, ?B/s]"
            ],
            "application/vnd.jupyter.widget-view+json": {
              "version_major": 2,
              "version_minor": 0,
              "model_id": "5a8b555ad55b495fa7ea78a6773a1d3a"
            }
          },
          "metadata": {}
        },
        {
          "output_type": "display_data",
          "data": {
            "text/plain": [
              "Downloading (…)/main/tokenizer.json:   0%|          | 0.00/466k [00:00<?, ?B/s]"
            ],
            "application/vnd.jupyter.widget-view+json": {
              "version_major": 2,
              "version_minor": 0,
              "model_id": "2187d07e5d294a2cb628b4c9ca46b531"
            }
          },
          "metadata": {}
        },
        {
          "output_type": "display_data",
          "data": {
            "text/plain": [
              "Downloading (…)cial_tokens_map.json:   0%|          | 0.00/112 [00:00<?, ?B/s]"
            ],
            "application/vnd.jupyter.widget-view+json": {
              "version_major": 2,
              "version_minor": 0,
              "model_id": "ff94ed050f9c459f83a629adb66e1568"
            }
          },
          "metadata": {}
        },
        {
          "output_type": "display_data",
          "data": {
            "text/plain": [
              "Downloading pytorch_model.bin:   0%|          | 0.00/265M [00:00<?, ?B/s]"
            ],
            "application/vnd.jupyter.widget-view+json": {
              "version_major": 2,
              "version_minor": 0,
              "model_id": "8271314dbfc3430585a283008c46a640"
            }
          },
          "metadata": {}
        }
      ]
    },
    {
      "cell_type": "markdown",
      "source": [
        "### Tokenize a sentence"
      ],
      "metadata": {
        "id": "MmGcRvLXWNYy"
      }
    },
    {
      "cell_type": "code",
      "source": [
        "text = 'Hello universe, glad to be alive'"
      ],
      "metadata": {
        "id": "Y0Fd9VK9VItl"
      },
      "execution_count": 6,
      "outputs": []
    },
    {
      "cell_type": "code",
      "source": [
        "tokens = tokenizer.encode_plus(text, max_length=128,\n",
        "                               truncation=True, padding='max_length',\n",
        "                               return_tensors='pt')"
      ],
      "metadata": {
        "id": "hHxNml9HVL-V"
      },
      "execution_count": 7,
      "outputs": []
    },
    {
      "cell_type": "code",
      "source": [
        "outputs = model(**tokens)\n",
        "outputs"
      ],
      "metadata": {
        "colab": {
          "base_uri": "https://localhost:8080/"
        },
        "id": "Z6rQ_NtZVO01",
        "outputId": "3266f638-17f0-460d-f1a0-2284d05b577c"
      },
      "execution_count": 8,
      "outputs": [
        {
          "output_type": "execute_result",
          "data": {
            "text/plain": [
              "BaseModelOutput(last_hidden_state=tensor([[[-0.7525,  0.4197, -0.7203,  ...,  0.5391,  0.3917, -0.4467],\n",
              "         [-0.7132,  0.6708, -0.4577,  ...,  0.7561,  0.5422, -0.6433],\n",
              "         [-0.4035,  0.6712,  0.0242,  ...,  0.5391,  0.2289, -0.0792],\n",
              "         ...,\n",
              "         [-1.0886,  0.3778, -0.6074,  ...,  0.5937,  0.4756, -0.2495],\n",
              "         [-0.9791,  0.2046, -0.6026,  ...,  0.8414,  0.4806, -0.2560],\n",
              "         [-0.5645,  0.2576, -0.6433,  ...,  0.6893,  0.2765, -0.0449]]],\n",
              "       grad_fn=<NativeLayerNormBackward0>), hidden_states=None, attentions=None)"
            ]
          },
          "metadata": {},
          "execution_count": 8
        }
      ]
    },
    {
      "cell_type": "markdown",
      "source": [
        "### 1. Get the dense vectors embeddings\n",
        "\n",
        "The dense vector representations of our text are contained within the outputs 'last_hidden_state' tensor, which we access like so:"
      ],
      "metadata": {
        "id": "rOis0heqWWDX"
      }
    },
    {
      "cell_type": "code",
      "source": [
        "embeddings = outputs.last_hidden_state\n",
        "embeddings"
      ],
      "metadata": {
        "colab": {
          "base_uri": "https://localhost:8080/"
        },
        "id": "HKOynaasVPMd",
        "outputId": "a52817bc-92ea-4fee-bb05-cb00ba989b09"
      },
      "execution_count": 12,
      "outputs": [
        {
          "output_type": "execute_result",
          "data": {
            "text/plain": [
              "tensor([[[-0.7525,  0.4197, -0.7203,  ...,  0.5391,  0.3917, -0.4467],\n",
              "         [-0.7132,  0.6708, -0.4577,  ...,  0.7561,  0.5422, -0.6433],\n",
              "         [-0.4035,  0.6712,  0.0242,  ...,  0.5391,  0.2289, -0.0792],\n",
              "         ...,\n",
              "         [-1.0886,  0.3778, -0.6074,  ...,  0.5937,  0.4756, -0.2495],\n",
              "         [-0.9791,  0.2046, -0.6026,  ...,  0.8414,  0.4806, -0.2560],\n",
              "         [-0.5645,  0.2576, -0.6433,  ...,  0.6893,  0.2765, -0.0449]]],\n",
              "       grad_fn=<NativeLayerNormBackward0>)"
            ]
          },
          "metadata": {},
          "execution_count": 12
        }
      ]
    },
    {
      "cell_type": "code",
      "source": [
        "embeddings.shape"
      ],
      "metadata": {
        "colab": {
          "base_uri": "https://localhost:8080/"
        },
        "id": "pQl_iWCsVn5O",
        "outputId": "b0864afd-f6a4-4b34-967a-57bafc70946f"
      },
      "execution_count": 11,
      "outputs": [
        {
          "output_type": "execute_result",
          "data": {
            "text/plain": [
              "torch.Size([1, 128, 768])"
            ]
          },
          "metadata": {},
          "execution_count": 11
        }
      ]
    },
    {
      "cell_type": "markdown",
      "source": [
        "### 2. Perform *mean pooling*\n",
        "\n",
        "We need to perform a mean pooling operation on them to create a single vector encoding (the sentence embedding). To do this mean pooling operation we will need to multiply each value in our embeddings tensor by it's respective attention_mask value - so that we ignore non-real tokens."
      ],
      "metadata": {
        "id": "AXGjcoPRWrVX"
      }
    },
    {
      "cell_type": "markdown",
      "source": [
        "#### a. Resize our attention_mask tensor\n",
        "\n",
        "To perform mean pooling , we first resize our attention_mask tensor"
      ],
      "metadata": {
        "id": "vOJDgqFQW6K1"
      }
    },
    {
      "cell_type": "code",
      "source": [
        "attention_mask = tokens['attention_mask']\n",
        "attention_mask.shape"
      ],
      "metadata": {
        "colab": {
          "base_uri": "https://localhost:8080/"
        },
        "id": "pKbDbkFyVq4-",
        "outputId": "debb8c9f-bd61-4a3f-b62a-bede6f03763e"
      },
      "execution_count": 13,
      "outputs": [
        {
          "output_type": "execute_result",
          "data": {
            "text/plain": [
              "torch.Size([1, 128])"
            ]
          },
          "metadata": {},
          "execution_count": 13
        }
      ]
    },
    {
      "cell_type": "markdown",
      "source": [
        "#### b. Expand our attention mask\n",
        "we need to expand our attention mask up to the same size of our embeddings."
      ],
      "metadata": {
        "id": "sTZs5abGXd0d"
      }
    },
    {
      "cell_type": "code",
      "source": [
        "mask = attention_mask.unsqueeze(-1).expand(embeddings.size()).float()\n",
        "mask.shape"
      ],
      "metadata": {
        "colab": {
          "base_uri": "https://localhost:8080/"
        },
        "id": "i6VB5x2CXPlG",
        "outputId": "e8d4d101-7bd5-4dd1-8e00-f4ac19732788"
      },
      "execution_count": 14,
      "outputs": [
        {
          "output_type": "execute_result",
          "data": {
            "text/plain": [
              "torch.Size([1, 128, 768])"
            ]
          },
          "metadata": {},
          "execution_count": 14
        }
      ]
    },
    {
      "cell_type": "code",
      "source": [
        "attention_mask, attention_mask.shape"
      ],
      "metadata": {
        "colab": {
          "base_uri": "https://localhost:8080/"
        },
        "id": "J3D7lJsnXu3t",
        "outputId": "0fa0cb61-c0de-4007-f120-aac6eb7b1e72"
      },
      "execution_count": 18,
      "outputs": [
        {
          "output_type": "execute_result",
          "data": {
            "text/plain": [
              "(tensor([[1, 1, 1, 1, 1, 1, 1, 1, 1, 0, 0, 0, 0, 0, 0, 0, 0, 0, 0, 0, 0, 0, 0, 0,\n",
              "          0, 0, 0, 0, 0, 0, 0, 0, 0, 0, 0, 0, 0, 0, 0, 0, 0, 0, 0, 0, 0, 0, 0, 0,\n",
              "          0, 0, 0, 0, 0, 0, 0, 0, 0, 0, 0, 0, 0, 0, 0, 0, 0, 0, 0, 0, 0, 0, 0, 0,\n",
              "          0, 0, 0, 0, 0, 0, 0, 0, 0, 0, 0, 0, 0, 0, 0, 0, 0, 0, 0, 0, 0, 0, 0, 0,\n",
              "          0, 0, 0, 0, 0, 0, 0, 0, 0, 0, 0, 0, 0, 0, 0, 0, 0, 0, 0, 0, 0, 0, 0, 0,\n",
              "          0, 0, 0, 0, 0, 0, 0, 0]]),\n",
              " torch.Size([1, 128]))"
            ]
          },
          "metadata": {},
          "execution_count": 18
        }
      ]
    },
    {
      "cell_type": "code",
      "source": [
        "mask, mask[0][0].shape"
      ],
      "metadata": {
        "colab": {
          "base_uri": "https://localhost:8080/"
        },
        "id": "b9Au9fPMXSlt",
        "outputId": "2b752970-a22c-460d-e2f4-d27c338f3f65"
      },
      "execution_count": 20,
      "outputs": [
        {
          "output_type": "execute_result",
          "data": {
            "text/plain": [
              "(tensor([[[1., 1., 1.,  ..., 1., 1., 1.],\n",
              "          [1., 1., 1.,  ..., 1., 1., 1.],\n",
              "          [1., 1., 1.,  ..., 1., 1., 1.],\n",
              "          ...,\n",
              "          [0., 0., 0.,  ..., 0., 0., 0.],\n",
              "          [0., 0., 0.,  ..., 0., 0., 0.],\n",
              "          [0., 0., 0.,  ..., 0., 0., 0.]]]),\n",
              " torch.Size([768]))"
            ]
          },
          "metadata": {},
          "execution_count": 20
        }
      ]
    },
    {
      "cell_type": "markdown",
      "source": [
        "#### c. Multiply the two tensors to apply the attention mask"
      ],
      "metadata": {
        "id": "mnou3BkYYpoX"
      }
    },
    {
      "cell_type": "code",
      "source": [
        "masked_embeddings = embeddings * mask\n",
        "masked_embeddings.shape"
      ],
      "metadata": {
        "colab": {
          "base_uri": "https://localhost:8080/"
        },
        "id": "gAGfEmFKX3A9",
        "outputId": "e64f034e-3fdd-41ad-f5bf-3fa9ba8ba803"
      },
      "execution_count": 21,
      "outputs": [
        {
          "output_type": "execute_result",
          "data": {
            "text/plain": [
              "torch.Size([1, 128, 768])"
            ]
          },
          "metadata": {},
          "execution_count": 21
        }
      ]
    },
    {
      "cell_type": "code",
      "source": [
        "masked_embeddings"
      ],
      "metadata": {
        "colab": {
          "base_uri": "https://localhost:8080/"
        },
        "id": "Mjv_Q9pyYMnd",
        "outputId": "c31659ab-8e00-48bd-b2a5-0a66211c4cdf"
      },
      "execution_count": 22,
      "outputs": [
        {
          "output_type": "execute_result",
          "data": {
            "text/plain": [
              "tensor([[[-0.7525,  0.4197, -0.7203,  ...,  0.5391,  0.3917, -0.4467],\n",
              "         [-0.7132,  0.6708, -0.4577,  ...,  0.7561,  0.5422, -0.6433],\n",
              "         [-0.4035,  0.6712,  0.0242,  ...,  0.5391,  0.2289, -0.0792],\n",
              "         ...,\n",
              "         [-0.0000,  0.0000, -0.0000,  ...,  0.0000,  0.0000, -0.0000],\n",
              "         [-0.0000,  0.0000, -0.0000,  ...,  0.0000,  0.0000, -0.0000],\n",
              "         [-0.0000,  0.0000, -0.0000,  ...,  0.0000,  0.0000, -0.0000]]],\n",
              "       grad_fn=<MulBackward0>)"
            ]
          },
          "metadata": {},
          "execution_count": 22
        }
      ]
    },
    {
      "cell_type": "markdown",
      "source": [
        "d. Sum the remained of the embeddings along axis 1"
      ],
      "metadata": {
        "id": "1ZYL7zSmYeml"
      }
    },
    {
      "cell_type": "code",
      "source": [
        "summed = torch.sum(masked_embeddings, 1)\n",
        "summed.shape"
      ],
      "metadata": {
        "colab": {
          "base_uri": "https://localhost:8080/"
        },
        "id": "tAJoyxBIYOHl",
        "outputId": "d2b8071c-b25b-49eb-9e03-251ea9eae25c"
      },
      "execution_count": 23,
      "outputs": [
        {
          "output_type": "execute_result",
          "data": {
            "text/plain": [
              "torch.Size([1, 768])"
            ]
          },
          "metadata": {},
          "execution_count": 23
        }
      ]
    },
    {
      "cell_type": "markdown",
      "source": [],
      "metadata": {
        "id": "YphvlcVbY8bP"
      }
    },
    {
      "cell_type": "code",
      "source": [
        "summed_mask = torch.clamp(mask.sum(1), min=1e-9)\n",
        "summed_mask.shape"
      ],
      "metadata": {
        "colab": {
          "base_uri": "https://localhost:8080/"
        },
        "id": "dZZnMcJ0Y459",
        "outputId": "4d0bbfc6-e0b4-4ce0-87db-be396f427144"
      },
      "execution_count": 24,
      "outputs": [
        {
          "output_type": "execute_result",
          "data": {
            "text/plain": [
              "torch.Size([1, 768])"
            ]
          },
          "metadata": {},
          "execution_count": 24
        }
      ]
    },
    {
      "cell_type": "markdown",
      "source": [
        "#### e. Calcualte the mean"
      ],
      "metadata": {
        "id": "G1cAaaq2Zh1u"
      }
    },
    {
      "cell_type": "code",
      "source": [
        "mean_pooled = summed / summed_mask"
      ],
      "metadata": {
        "id": "Ozs9BiSyZYy2"
      },
      "execution_count": 25,
      "outputs": []
    },
    {
      "cell_type": "markdown",
      "source": [
        "And that is how we calculate our dense similarity vector."
      ],
      "metadata": {
        "id": "4m3lBQQ5ZpPB"
      }
    },
    {
      "cell_type": "code",
      "source": [
        "mean_pooled"
      ],
      "metadata": {
        "colab": {
          "base_uri": "https://localhost:8080/"
        },
        "id": "kCQ904pzZmTO",
        "outputId": "8dc717b1-b167-47cc-b50a-e02942b92145"
      },
      "execution_count": 26,
      "outputs": [
        {
          "output_type": "execute_result",
          "data": {
            "text/plain": [
              "tensor([[-3.8108e-01,  5.8393e-01, -5.3531e-01, -1.0056e+00, -7.8539e-01,\n",
              "          2.3249e-01, -1.8562e-01,  4.8350e-01, -7.9765e-01, -4.1529e-01,\n",
              "         -2.0013e-01,  1.2518e-01, -3.9587e-01,  5.9414e-01, -9.2893e-02,\n",
              "         -2.7468e-01,  7.0809e-01,  3.7565e-02, -8.2779e-01,  3.0793e-01,\n",
              "         -8.3559e-02, -4.4371e-01, -1.3940e-01, -1.2848e-01, -7.6873e-01,\n",
              "         -2.9797e-01,  7.9975e-01,  4.9578e-01,  1.1253e-01,  2.9063e-01,\n",
              "         -7.0664e-01, -5.8204e-01,  2.4675e-01,  8.6831e-02, -5.0094e-01,\n",
              "          1.2004e+00, -2.1038e+00, -2.3079e-01, -2.4776e-01, -7.4685e-01,\n",
              "          6.2815e-01, -1.1186e-01,  9.1576e-01, -9.7953e-02, -1.4730e+00,\n",
              "          2.0458e-01, -9.5463e-01, -7.6667e-02, -4.0136e-01,  7.5325e-01,\n",
              "          3.4341e-01, -3.4113e-01, -2.0175e-01, -4.9423e-01,  2.3378e-01,\n",
              "          5.1864e-01, -1.8927e+00,  1.1531e+00,  8.5056e-01, -2.2447e-01,\n",
              "         -3.1461e-01, -9.9360e-01,  9.3596e-01,  6.8447e-01,  1.5344e-01,\n",
              "          5.5445e-02, -3.8706e-01, -4.0199e-01,  1.5017e+00,  2.2500e-01,\n",
              "          8.4531e-01, -5.7823e-01,  5.2780e-01, -9.3791e-01, -5.5856e-01,\n",
              "         -7.0044e-01, -2.1486e-02,  6.9821e-01, -1.0843e+00, -1.6448e-02,\n",
              "         -5.8462e-01, -7.2674e-01, -2.4912e-02,  6.6984e-01, -5.6725e-01,\n",
              "         -5.4980e-01, -1.8371e-01,  1.6160e-01, -7.3813e-01,  8.9486e-01,\n",
              "          1.0600e+00,  2.8850e-01,  1.2702e-01,  8.3036e-01,  7.4363e-01,\n",
              "         -8.7631e-02, -1.0402e+00, -7.5057e-01, -2.1285e-01,  3.6672e-01,\n",
              "          1.8351e-01,  3.3384e-01,  9.2065e-02, -3.6093e-01, -2.4070e-01,\n",
              "         -2.4594e-01,  6.4946e-01, -9.3182e-01, -6.2070e-01, -5.9200e-01,\n",
              "          5.6608e-01, -2.5738e-02, -1.1430e-01,  1.1369e+00, -6.0829e-01,\n",
              "          6.9940e-01, -1.9661e-01, -4.3265e-01, -7.9381e-01,  6.6401e-02,\n",
              "          7.1616e-01, -4.9338e-01, -8.3169e-01,  6.6121e-01, -3.7785e-01,\n",
              "         -3.8117e-03,  5.1432e-01, -2.8220e-01,  1.2872e+00,  2.9863e-01,\n",
              "          5.9056e-01,  1.6603e-02, -2.5024e-01,  5.3878e-01,  8.7629e-01,\n",
              "         -6.1530e-01, -4.4973e-01,  2.1152e-01, -6.3146e-01, -9.0705e-01,\n",
              "          3.6401e-01,  5.2345e-01, -5.9113e-01, -5.4337e-01,  9.5785e-01,\n",
              "          2.0322e-01,  2.2329e-01,  6.1318e-01, -5.5831e-01, -4.1047e-01,\n",
              "         -4.3906e-01, -2.5687e-01, -9.5492e-01, -1.5312e-01, -4.4606e-01,\n",
              "         -4.9844e-01, -8.3955e-01,  5.6513e-02, -8.1832e-01,  7.0616e-01,\n",
              "         -3.5781e-01,  2.3205e-01,  3.1635e-01, -6.9308e-01, -2.2303e+00,\n",
              "          8.0498e-01,  9.3797e-01, -7.0026e-02,  6.6309e-01, -2.5286e-01,\n",
              "          1.5444e-01,  9.7489e-03, -1.1867e+00,  5.1614e-01, -1.2076e+00,\n",
              "         -4.8623e-01,  7.6155e-01, -4.0777e-01, -1.6535e-01, -1.8588e-01,\n",
              "         -4.9204e-01, -7.5357e-01, -4.2854e-01, -9.5045e-02, -1.6163e-01,\n",
              "          2.5073e-01,  6.6804e-01, -1.5700e+00, -2.6211e-02, -3.1584e-01,\n",
              "          3.9889e-01,  6.9616e-01,  5.2065e-01,  5.5597e-02,  8.1873e-01,\n",
              "          8.1705e-01,  1.8938e-01,  3.8100e-01,  8.8187e-01, -1.7498e-01,\n",
              "         -1.6194e-01,  1.2309e+00,  2.0105e-01, -2.7396e-01,  7.6814e-01,\n",
              "         -6.1870e-01,  2.6058e-01, -7.2435e-01, -3.0883e-01, -4.1821e-01,\n",
              "         -2.3756e-01, -1.2405e-01, -3.3834e-01, -6.6130e-01, -3.5709e-01,\n",
              "          1.1506e+00, -9.5735e-01,  5.2499e-02, -1.5170e+00, -1.5543e-01,\n",
              "         -3.4540e-02,  5.8927e-01,  1.0242e+00, -3.4168e-01,  7.7069e-01,\n",
              "         -1.7572e-01,  3.2641e-01, -1.5495e-01,  4.8373e-01, -1.4617e-01,\n",
              "         -2.5830e-01, -6.8316e-02,  1.3919e-01,  4.4811e-01, -6.5276e-02,\n",
              "         -4.2525e-01,  1.0731e+00, -1.0268e+00,  6.1804e-01, -4.5773e-01,\n",
              "         -5.8200e-01, -6.2058e-01, -6.0290e-01, -1.2942e-01, -8.7608e-01,\n",
              "         -3.3724e-01,  4.3754e-03, -1.1315e-01,  1.1576e+00, -1.1805e+00,\n",
              "         -1.3194e+00,  1.2139e-01,  7.2238e-01,  8.4173e-01,  1.1486e+00,\n",
              "         -9.1358e-01, -3.3356e-01, -7.7209e-01, -6.8842e-01,  5.3585e-01,\n",
              "         -2.0086e-01, -4.7247e-01,  1.8485e-02,  1.5896e-01,  2.5740e-02,\n",
              "          3.8325e-01,  5.6123e-01, -3.6755e-01, -7.9580e-02,  2.9133e-01,\n",
              "         -5.9646e-01,  3.3604e-01, -1.6284e-01,  1.0740e-01,  2.0366e+00,\n",
              "          1.1131e+00, -1.4252e+00,  3.1800e-01,  1.5637e-01, -4.5173e-01,\n",
              "         -4.1512e-01,  1.1270e-01, -1.0872e+00, -2.6051e-02, -3.3176e-01,\n",
              "          3.1486e-01, -8.8798e-01, -7.1676e-01, -5.9176e-01, -1.9840e-01,\n",
              "         -1.0421e+00,  3.4185e-01,  8.2503e-02, -1.3805e-01,  2.5843e-01,\n",
              "         -2.9042e-02,  6.6202e-01, -5.8700e-01, -8.9431e-01,  2.0194e-01,\n",
              "         -3.2131e-01,  1.9894e-03, -2.8046e-01, -1.1485e+00, -1.3389e-01,\n",
              "         -3.2819e-01, -3.2685e-01, -5.8810e-01,  4.1790e-01,  5.6442e-01,\n",
              "          7.8653e-01,  3.2002e-01, -7.7445e-01,  6.2851e-01,  4.2470e-01,\n",
              "          1.1367e+00,  1.1024e+00, -4.1613e-01,  3.9669e-01,  2.6614e-01,\n",
              "         -6.4584e-01,  3.2632e-01, -2.7806e-01, -5.3410e-01, -5.9746e-01,\n",
              "         -6.9641e-01, -3.8596e-01, -4.5740e-01, -5.7861e-01,  3.2272e-01,\n",
              "         -7.8644e-01, -7.0508e-01, -1.1725e-01, -7.2533e-01,  1.2208e+00,\n",
              "         -7.1712e-01,  3.9685e-02,  1.2043e+00, -3.6059e-01, -1.5655e-01,\n",
              "          3.6439e-01, -5.7413e-01,  4.5933e-01, -4.0378e-01, -1.0141e-01,\n",
              "         -1.1341e+00, -8.3309e-01, -1.0317e+00, -1.1376e-01, -7.4239e-01,\n",
              "          2.2520e-01,  1.1713e-02, -4.6839e-01, -4.5521e-01, -4.4175e-01,\n",
              "          6.7600e-01,  1.0737e+00,  1.2643e-02, -5.4858e-01, -1.3723e-01,\n",
              "          9.2745e-01,  2.6470e-01, -2.5060e-01, -4.6638e-01,  2.4846e-01,\n",
              "          6.2029e-01, -3.3801e-01, -2.6862e-02,  2.5855e-01,  6.8413e-01,\n",
              "          1.1002e-02,  9.2348e-02,  2.3130e-01,  3.5953e-01, -5.0877e-01,\n",
              "          3.8854e-02,  3.7716e-01,  2.0047e-01,  2.5006e-01, -2.8805e-01,\n",
              "         -2.2955e-01, -2.8428e-01, -1.0052e-01, -2.4322e-01, -4.9558e-01,\n",
              "         -9.2543e-01, -3.4901e-01, -7.1100e-01,  1.1952e+00, -6.9644e-01,\n",
              "          3.7803e-01,  1.4955e-01,  7.4378e-01,  2.7920e-01,  7.8617e-02,\n",
              "          8.3177e-01,  2.2931e-01,  2.6349e-01,  3.8458e-01, -2.2012e-01,\n",
              "          5.2576e-01,  1.1632e+00, -3.8053e-01, -5.9161e-01,  4.1530e-01,\n",
              "          7.6179e-01, -1.7628e-01, -1.4673e-01,  1.3360e+00,  6.2684e-01,\n",
              "         -4.1923e-01,  2.1570e-01,  3.0638e-01,  4.3463e-01, -1.4258e-01,\n",
              "         -1.1259e+00, -9.8187e-02, -9.9908e-01, -7.5281e-02,  1.5386e-01,\n",
              "         -1.2391e+00,  7.1201e-03,  6.6817e-01,  1.7797e-01,  1.1147e+00,\n",
              "          8.0187e-02,  1.1582e-01,  7.8321e-01,  1.6761e-01, -6.3651e-01,\n",
              "          8.9858e-01,  7.5593e-01, -2.6549e-01,  9.9795e-02, -1.7749e-01,\n",
              "         -2.0823e-01,  2.5442e-01, -3.0445e-01, -3.3595e-01,  6.1052e-01,\n",
              "         -1.6391e-01,  7.2926e-01,  4.2222e-01,  3.1361e-01, -5.5376e-02,\n",
              "         -1.6651e-01,  1.2800e-01,  3.3044e-01, -1.3656e-01, -7.2342e-02,\n",
              "          9.3701e-01, -3.5053e-01, -1.5602e-01,  1.7971e-01, -7.5207e-01,\n",
              "         -1.3563e-01, -4.2680e-01, -7.9832e-01, -1.7440e-01,  2.1059e-01,\n",
              "          9.1545e-02, -6.6930e-01, -5.8018e-01, -1.3547e-01, -1.3999e-01,\n",
              "         -4.9359e-01,  4.1406e-01,  3.0517e-01,  1.0098e+00,  9.1967e-02,\n",
              "         -3.9096e-01, -7.6418e-02,  5.6980e-01,  5.3988e-02, -2.1377e-01,\n",
              "         -6.3286e-02, -6.7759e-01, -5.4962e-01,  7.1465e-01,  5.1728e-01,\n",
              "          2.1723e-01, -1.7759e-01,  6.0341e-01, -1.1562e-01,  5.0064e-01,\n",
              "          1.3571e-01,  5.8161e-01, -7.0108e-01, -7.8126e-01, -8.7348e-01,\n",
              "         -5.0553e-01,  2.1583e-01,  8.0400e-01, -1.3044e+00,  1.6926e-02,\n",
              "         -4.3656e-01,  5.9064e-01, -5.4058e-01, -3.8765e-01, -3.7907e-03,\n",
              "         -3.3620e-02, -4.1295e-01, -6.6615e-01, -6.3178e-02, -1.1031e+00,\n",
              "          5.0156e-01,  1.0557e-01, -1.4982e-01, -1.0551e-01,  8.9187e-01,\n",
              "          5.6191e-01,  4.4243e-01,  4.0417e-01,  2.3459e-01, -5.0190e-01,\n",
              "         -5.0840e-01,  1.9434e-01,  9.2610e-01,  1.8774e-01, -4.6067e-02,\n",
              "          4.7719e-01, -5.7507e-02, -1.7308e-01,  1.1290e+00, -1.5551e-01,\n",
              "          7.9577e-01, -6.1239e-02,  2.7535e-01, -3.0607e-01,  1.7590e-01,\n",
              "          4.6866e-01, -3.1739e-01, -4.8419e-01, -1.5295e+00,  3.2870e-01,\n",
              "          1.0687e-01,  8.9590e-02, -8.1157e-01,  3.4871e-01,  6.9127e-01,\n",
              "          2.2728e-01, -3.3231e-01, -3.5742e-01,  2.1872e-01,  4.6745e-01,\n",
              "          1.0710e+00,  6.2921e-01,  4.3634e-01, -1.8831e-01, -9.7351e-02,\n",
              "         -1.1738e-01,  2.0379e-01,  2.0347e-01,  1.2693e-01,  2.0649e-01,\n",
              "          8.9045e-01, -1.2605e-01, -4.1882e-01, -6.9835e-02,  1.1155e+00,\n",
              "         -5.2261e-01,  4.7572e-01,  1.4278e-02, -1.3149e+00,  9.3958e-01,\n",
              "          5.3518e-01, -7.2555e-01, -5.3915e-01,  3.1853e-02,  3.0560e-01,\n",
              "         -1.1006e+00,  9.9161e-01,  4.9422e-01, -1.5962e-02, -5.9887e-01,\n",
              "          2.1526e-01,  4.3344e-01, -9.8882e-02, -2.7858e-01,  4.8914e-01,\n",
              "         -3.7429e-01, -3.4571e-01,  5.4604e-01, -9.4642e-02, -4.1830e-01,\n",
              "          8.6752e-01, -3.5334e-01, -7.0141e-02,  1.6748e-01,  8.7533e-02,\n",
              "         -6.5273e-02,  5.8980e-01, -2.0554e-01, -1.5597e-01, -1.0178e-01,\n",
              "         -2.1390e-01,  5.3393e-01,  3.2002e-01,  3.5866e-01, -5.7833e-01,\n",
              "         -8.6684e-01, -5.2931e-01,  2.1931e-01,  2.8211e-01, -4.9142e-01,\n",
              "         -7.7235e-02, -3.1807e-01,  2.7155e-01,  1.1412e+00, -5.8817e-01,\n",
              "          6.9092e-01, -4.6807e-01,  3.4757e-02,  5.8027e-01,  2.0755e-01,\n",
              "          6.2019e-03, -8.2822e-01, -1.0051e-01, -3.8107e-01,  7.1107e-01,\n",
              "         -1.3264e+00, -5.1015e-01,  7.1407e-03, -3.5495e-01, -1.4123e-01,\n",
              "         -1.3164e+00, -3.2264e-01, -1.8820e-02,  2.4785e-02, -9.3904e-01,\n",
              "         -2.6459e-01, -2.9688e-01, -6.3111e-01, -6.6565e-01,  1.3643e-01,\n",
              "         -1.0808e+00,  4.0211e-01,  6.4212e-01,  4.4216e-01, -5.3193e-01,\n",
              "          4.2318e-01, -3.1379e-01,  4.2526e-01, -9.3418e-01,  5.4880e-02,\n",
              "         -4.8998e-01,  4.2624e-01,  2.3705e-01, -2.7780e-01,  1.6132e-01,\n",
              "          6.2163e-01, -2.5152e-01,  7.3744e-01,  3.3881e-01, -2.3516e-01,\n",
              "          5.6043e-01,  6.1692e-01, -1.3066e+00,  1.5920e-01, -4.1207e-01,\n",
              "         -2.8766e-01,  2.9284e-02, -4.4567e-01, -1.8995e-01,  3.5570e-01,\n",
              "          1.4906e-01,  3.2678e-01, -3.9291e-01,  7.8264e-01,  2.7124e-01,\n",
              "         -1.0520e+00, -2.9372e-02,  5.4893e-01, -5.0126e-01,  3.1237e-01,\n",
              "          7.5194e-01,  5.5988e-01, -1.8733e-01, -3.8663e-01, -7.5612e-01,\n",
              "         -3.3847e-01, -5.3241e-02,  5.0536e-01,  1.2912e+00, -5.4242e-02,\n",
              "         -1.1153e-01,  5.9824e-01, -1.8451e-01,  1.9457e-01, -4.8647e-01,\n",
              "          1.1283e+00, -3.8700e-01,  8.0255e-02,  2.7124e-01, -3.5202e-01,\n",
              "         -6.1083e-01,  2.0437e-01,  1.2512e+00,  1.8847e-01, -2.5813e-01,\n",
              "          7.0063e-01,  2.4049e-01,  1.5150e-01,  1.2422e+00,  3.5666e-02,\n",
              "         -6.4970e-01,  5.1190e-01, -5.8278e-01, -7.5918e-01,  1.7385e+00,\n",
              "          1.2269e-01, -7.8473e-01, -4.2697e-01,  1.5280e-01, -4.2370e-02,\n",
              "          1.4501e-01,  1.7305e-01, -1.0644e+00,  6.7251e-01, -5.2299e-02,\n",
              "          9.7431e-01,  1.4861e-01,  3.3721e-01,  3.1310e-01, -2.1145e-01,\n",
              "         -4.1535e-01,  2.8665e-01, -6.3001e-02, -4.1565e-01, -4.0641e-01,\n",
              "          1.0016e-02, -5.1608e-02,  4.3967e-01,  1.3693e+00,  2.1698e-01,\n",
              "         -3.9028e-01,  1.6465e-01, -4.0011e-01,  3.6957e-01,  1.3705e+00,\n",
              "         -5.9681e-01, -8.6513e-01,  2.8605e-01, -6.8818e-01, -2.6295e-01,\n",
              "         -2.5970e-01, -1.6929e-01, -2.4399e-01, -1.2345e-01,  8.9780e-02,\n",
              "          4.2041e-01, -5.9955e-01,  4.3528e-01, -8.3692e-01,  1.6729e-01,\n",
              "         -4.6216e-01,  4.3654e-02,  3.2828e-01, -8.4036e-01, -1.2024e-01,\n",
              "         -1.2928e-01,  1.8069e+00,  4.6860e-02,  7.3164e-01,  7.7532e-02,\n",
              "          7.7327e-01,  1.9647e-01, -5.5834e-01]], grad_fn=<DivBackward0>)"
            ]
          },
          "metadata": {},
          "execution_count": 26
        }
      ]
    },
    {
      "cell_type": "code",
      "source": [],
      "metadata": {
        "id": "X1VN1DmeZsy9"
      },
      "execution_count": null,
      "outputs": []
    }
  ]
}