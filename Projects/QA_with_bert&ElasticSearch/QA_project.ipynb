{
 "cells": [
  {
   "cell_type": "markdown",
   "metadata": {},
   "source": [
    "# Open-Domain QA Project"
   ]
  },
  {
   "cell_type": "markdown",
   "metadata": {},
   "source": [
    "For this project, we will be building an open-domain question answering system. There are three major components to such a system:\n",
    "\n",
    "- Database\n",
    "\n",
    "- Retriever\n",
    "\n",
    "- Reader"
   ]
  },
  {
   "cell_type": "markdown",
   "metadata": {},
   "source": [
    "### Step 1: prepare the Database\n"
   ]
  },
  {
   "cell_type": "markdown",
   "metadata": {},
   "source": [
    "#### a. Load our data"
   ]
  },
  {
   "cell_type": "markdown",
   "metadata": {},
   "source": [
    "We'll be using the following UN report \"The Qusetion of Palestine\"\n",
    "\n",
    "https://raw.githubusercontent.com/Azizkhaled/NLP/main/Data/UN_text.txt"
   ]
  },
  {
   "cell_type": "code",
   "execution_count": 1,
   "metadata": {},
   "outputs": [],
   "source": [
    "import requests"
   ]
  },
  {
   "cell_type": "code",
   "execution_count": 2,
   "metadata": {},
   "outputs": [],
   "source": [
    "# function to remove duplicates while keeping the same order\n",
    "\n",
    "def remove_duplicates_keep_order(input_list):\n",
    "    seen = set()\n",
    "    result = []\n",
    "\n",
    "    for item in input_list:\n",
    "        if item not in seen:\n",
    "            result.append(item)\n",
    "            seen.add(item)\n",
    "\n",
    "    return result\n"
   ]
  },
  {
   "cell_type": "code",
   "execution_count": 3,
   "metadata": {},
   "outputs": [
    {
     "name": "stdout",
     "output_type": "stream",
     "text": [
      "Before\n",
      " 1500 :  ['\\r', 'The question of Palestine was brought before the United Nations shortly after the end of the Second World War.\\r', '\\r']\n",
      "\n",
      "After\n",
      " 889 :  ['\\r', 'The question of Palestine was brought before the United Nations shortly after the end of the Second World War.\\r', 'The origins of the Palestine problem as an international issue, however, lie in events occurring towards the end of the First World War. These events led to a League of Nations decision to place Palestine under the administration of Great Britain as the Mandatory Power under the Mandates System adopted by the League. In principle, the Mandate was meant to be in the nature of a transitory phase until Palestine attained the status of a fully independent nation, a status provisionally recognized in the League’s Covenant, but in fact the Mandate’s historical evolution did not result in the emergence of Palestine as an independent nation.\\r']\n"
     ]
    }
   ],
   "source": [
    "data = requests.get('https://raw.githubusercontent.com/Azizkhaled/NLP/main/Data/UN_text.txt')\n",
    "text = data.text.split('\\n')\n",
    "#remove duplicates \n",
    "print('Before\\n', len(text), ': ', text[0:3])\n",
    "\n",
    "text = remove_duplicates_keep_order(text)\n",
    "print('\\nAfter\\n', len(text),': ', text[0:3])\n"
   ]
  },
  {
   "cell_type": "markdown",
   "metadata": {},
   "source": [
    "#### b. Setting up an index in elasticsearch\n",
    "\n",
    "If you didn't already, you will need to install [ElasticSearch](https://www.elastic.co/downloads/past-releases/elasticsearch-7-11-2)"
   ]
  },
  {
   "cell_type": "code",
   "execution_count": 4,
   "metadata": {},
   "outputs": [
    {
     "data": {
      "text/plain": [
       "{'cluster_name': 'elasticsearch',\n",
       " 'status': 'yellow',\n",
       " 'timed_out': False,\n",
       " 'number_of_nodes': 1,\n",
       " 'number_of_data_nodes': 1,\n",
       " 'active_primary_shards': 3,\n",
       " 'active_shards': 3,\n",
       " 'relocating_shards': 0,\n",
       " 'initializing_shards': 0,\n",
       " 'unassigned_shards': 3,\n",
       " 'delayed_unassigned_shards': 0,\n",
       " 'number_of_pending_tasks': 0,\n",
       " 'number_of_in_flight_fetch': 0,\n",
       " 'task_max_waiting_in_queue_millis': 0,\n",
       " 'active_shards_percent_as_number': 50.0}"
      ]
     },
     "execution_count": 4,
     "metadata": {},
     "output_type": "execute_result"
    }
   ],
   "source": [
    "# confirm Elasticsearch is up and running \n",
    "\n",
    "requests.get('http://localhost:9200/_cluster/health').json()\n"
   ]
  },
  {
   "cell_type": "markdown",
   "metadata": {},
   "source": [
    "##### Initilize the new index for the UN dataset"
   ]
  },
  {
   "cell_type": "code",
   "execution_count": 5,
   "metadata": {},
   "outputs": [
    {
     "name": "stderr",
     "output_type": "stream",
     "text": [
      "08/20/2023 12:28:29 - INFO - elasticsearch -   HEAD http://localhost:9200/un [status:200 request:0.005s]\n",
      "08/20/2023 12:28:29 - INFO - elasticsearch -   GET http://localhost:9200/un [status:200 request:0.003s]\n",
      "08/20/2023 12:28:29 - INFO - elasticsearch -   PUT http://localhost:9200/un/_mapping [status:200 request:0.019s]\n",
      "08/20/2023 12:28:29 - INFO - elasticsearch -   HEAD http://localhost:9200/label [status:200 request:0.003s]\n"
     ]
    }
   ],
   "source": [
    "from haystack.document_store.elasticsearch import ElasticsearchDocumentStore\n",
    "\n",
    "doc_store = ElasticsearchDocumentStore(\n",
    "    host='localhost',\n",
    "    username='', password='',\n",
    "    index='un'\n",
    ")"
   ]
  },
  {
   "cell_type": "code",
   "execution_count": 6,
   "metadata": {},
   "outputs": [
    {
     "name": "stdout",
     "output_type": "stream",
     "text": [
      "yellow open squad_docs s6GZ48hkQq23SCjlfytjwg 1 1 1204 0  18.4mb  18.4mb\n",
      "yellow open un         q0OxhRVAQLelbesmP3kDtQ 1 1 1778 0 674.8kb 674.8kb\n",
      "yellow open label      N6xlf6qPSz-glW15SVWhkA 1 1    0 0    208b    208b\n",
      "\n"
     ]
    }
   ],
   "source": [
    "# Check\n",
    "print(requests.get('http://localhost:9200/_cat/indices').text)\n"
   ]
  },
  {
   "cell_type": "markdown",
   "metadata": {},
   "source": [
    "#### c. format the data"
   ]
  },
  {
   "cell_type": "markdown",
   "metadata": {},
   "source": [
    "the required format: \n",
    "\n",
    "    {\n",
    "        'text': '<paragraph>',\n",
    "        'meta': {\n",
    "            'source': 'meditations'\n",
    "        }\n",
    "    }"
   ]
  },
  {
   "cell_type": "code",
   "execution_count": 7,
   "metadata": {},
   "outputs": [],
   "source": [
    "data_json = [\n",
    "    {\n",
    "        'text': paragraph,\n",
    "        'meta': {\n",
    "            'source': 'un palestine'\n",
    "        }\n",
    "    } for paragraph in text\n",
    "]"
   ]
  },
  {
   "cell_type": "code",
   "execution_count": 8,
   "metadata": {},
   "outputs": [
    {
     "data": {
      "text/plain": [
       "[{'text': '\\r', 'meta': {'source': 'un palestine'}},\n",
       " {'text': 'The question of Palestine was brought before the United Nations shortly after the end of the Second World War.\\r',\n",
       "  'meta': {'source': 'un palestine'}},\n",
       " {'text': 'The origins of the Palestine problem as an international issue, however, lie in events occurring towards the end of the First World War. These events led to a League of Nations decision to place Palestine under the administration of Great Britain as the Mandatory Power under the Mandates System adopted by the League. In principle, the Mandate was meant to be in the nature of a transitory phase until Palestine attained the status of a fully independent nation, a status provisionally recognized in the League’s Covenant, but in fact the Mandate’s historical evolution did not result in the emergence of Palestine as an independent nation.\\r',\n",
       "  'meta': {'source': 'un palestine'}}]"
      ]
     },
     "execution_count": 8,
     "metadata": {},
     "output_type": "execute_result"
    }
   ],
   "source": [
    "data_json[:3]"
   ]
  },
  {
   "cell_type": "code",
   "execution_count": 9,
   "metadata": {},
   "outputs": [
    {
     "data": {
      "text/plain": [
       "889"
      ]
     },
     "execution_count": 9,
     "metadata": {},
     "output_type": "execute_result"
    }
   ],
   "source": [
    "len(data_json)"
   ]
  },
  {
   "cell_type": "markdown",
   "metadata": {},
   "source": [
    "##### d. upload the data to ElasticSearch"
   ]
  },
  {
   "cell_type": "code",
   "execution_count": 20,
   "metadata": {},
   "outputs": [
    {
     "name": "stderr",
     "output_type": "stream",
     "text": [
      "08/20/2023 12:31:50 - INFO - elasticsearch -   POST http://localhost:9200/_bulk?refresh=wait_for [status:200 request:0.545s]\n",
      "08/20/2023 12:31:51 - INFO - elasticsearch -   POST http://localhost:9200/_bulk?refresh=wait_for [status:200 request:1.069s]\n"
     ]
    }
   ],
   "source": [
    "doc_store.write_documents(data_json)\n"
   ]
  },
  {
   "cell_type": "code",
   "execution_count": 21,
   "metadata": {},
   "outputs": [
    {
     "data": {
      "text/plain": [
       "{'count': 889,\n",
       " '_shards': {'total': 1, 'successful': 1, 'skipped': 0, 'failed': 0}}"
      ]
     },
     "execution_count": 21,
     "metadata": {},
     "output_type": "execute_result"
    }
   ],
   "source": [
    "requests.get('http://localhost:9200/un/_count').json()\n"
   ]
  },
  {
   "cell_type": "markdown",
   "metadata": {},
   "source": [
    "### Step 2: Retriever: BM25 and Reader : bert-base-cased-squad2  "
   ]
  },
  {
   "cell_type": "code",
   "execution_count": 12,
   "metadata": {},
   "outputs": [
    {
     "name": "stderr",
     "output_type": "stream",
     "text": [
      "08/20/2023 12:28:31 - INFO - elasticsearch -   HEAD http://localhost:9200/un [status:200 request:0.005s]\n",
      "08/20/2023 12:28:31 - INFO - elasticsearch -   GET http://localhost:9200/un [status:200 request:0.003s]\n",
      "08/20/2023 12:28:31 - INFO - elasticsearch -   PUT http://localhost:9200/un/_mapping [status:200 request:0.014s]\n",
      "08/20/2023 12:28:31 - INFO - elasticsearch -   HEAD http://localhost:9200/label [status:200 request:0.002s]\n"
     ]
    }
   ],
   "source": [
    "from haystack.document_store.elasticsearch import ElasticsearchDocumentStore\n",
    "\n",
    "doc_store = ElasticsearchDocumentStore(\n",
    "    host='localhost',\n",
    "    username='', password='',\n",
    "    index='un'\n",
    ")"
   ]
  },
  {
   "cell_type": "markdown",
   "metadata": {},
   "source": [
    "##### a. Retriever"
   ]
  },
  {
   "cell_type": "code",
   "execution_count": 13,
   "metadata": {},
   "outputs": [],
   "source": [
    "from haystack.retriever.sparse import ElasticsearchRetriever\n",
    "retriever = ElasticsearchRetriever(doc_store)  # BM25\n"
   ]
  },
  {
   "cell_type": "markdown",
   "metadata": {},
   "source": [
    "##### b. Reader"
   ]
  },
  {
   "cell_type": "code",
   "execution_count": 15,
   "metadata": {},
   "outputs": [
    {
     "name": "stderr",
     "output_type": "stream",
     "text": [
      "08/20/2023 12:28:32 - INFO - farm.utils -   Using device: CUDA \n",
      "08/20/2023 12:28:32 - INFO - farm.utils -   Number of GPUs: 1\n",
      "08/20/2023 12:28:32 - INFO - farm.utils -   Distributed Training: False\n",
      "08/20/2023 12:28:32 - INFO - farm.utils -   Automatic Mixed Precision: None\n"
     ]
    },
    {
     "name": "stderr",
     "output_type": "stream",
     "text": [
      "08/20/2023 12:30:22 - WARNING - farm.utils -   ML Logging is turned off. No parameters, metrics or artifacts will be logged to MLFlow.\n",
      "08/20/2023 12:30:22 - INFO - farm.utils -   Using device: CUDA \n",
      "08/20/2023 12:30:22 - INFO - farm.utils -   Number of GPUs: 1\n",
      "08/20/2023 12:30:22 - INFO - farm.utils -   Distributed Training: False\n",
      "08/20/2023 12:30:22 - INFO - farm.utils -   Automatic Mixed Precision: None\n",
      "08/20/2023 12:30:22 - INFO - farm.infer -   Got ya 3 parallel workers to do inference ...\n",
      "08/20/2023 12:30:22 - INFO - farm.infer -    0    0    0 \n",
      "08/20/2023 12:30:22 - INFO - farm.infer -   /w\\  /w\\  /w\\\n",
      "08/20/2023 12:30:22 - INFO - farm.infer -   /'\\  / \\  /'\\\n",
      "08/20/2023 12:30:22 - INFO - farm.infer -       \n"
     ]
    }
   ],
   "source": [
    "from haystack.reader.farm import FARMReader\n",
    "\n",
    "reader = FARMReader(model_name_or_path='deepset/bert-base-cased-squad2',\n",
    "                    context_window_size=1500,\n",
    "                    use_gpu=True)"
   ]
  },
  {
   "cell_type": "markdown",
   "metadata": {},
   "source": [
    "##### c. Retriever-Reader ODQA pipeline"
   ]
  },
  {
   "cell_type": "code",
   "execution_count": 23,
   "metadata": {},
   "outputs": [],
   "source": [
    "from haystack.pipeline import ExtractiveQAPipeline\n",
    "\n",
    "qa = ExtractiveQAPipeline(reader=reader, retriever=retriever)"
   ]
  },
  {
   "cell_type": "markdown",
   "metadata": {},
   "source": [
    "### Running Queries: "
   ]
  },
  {
   "cell_type": "code",
   "execution_count": 35,
   "metadata": {},
   "outputs": [
    {
     "name": "stderr",
     "output_type": "stream",
     "text": [
      "08/20/2023 13:06:39 - INFO - elasticsearch -   POST http://localhost:9200/un/_search [status:200 request:0.018s]\n",
      "Inferencing Samples: 100%|██████████| 1/1 [00:00<00:00,  4.08 Batches/s]\n",
      "Inferencing Samples: 100%|██████████| 1/1 [00:00<00:00, 12.35 Batches/s]\n",
      "Inferencing Samples: 100%|██████████| 1/1 [00:00<00:00, 12.35 Batches/s]\n",
      "Inferencing Samples: 100%|██████████| 1/1 [00:00<00:00, 12.35 Batches/s]\n",
      "Inferencing Samples: 100%|██████████| 1/1 [00:00<00:00, 12.35 Batches/s]\n",
      "Inferencing Samples: 100%|██████████| 1/1 [00:00<00:00, 12.35 Batches/s]\n",
      "Inferencing Samples: 100%|██████████| 1/1 [00:00<00:00, 12.50 Batches/s]\n",
      "Inferencing Samples: 100%|██████████| 1/1 [00:00<00:00, 12.35 Batches/s]\n",
      "Inferencing Samples: 100%|██████████| 1/1 [00:00<00:00, 12.35 Batches/s]\n",
      "Inferencing Samples: 100%|██████████| 1/1 [00:00<00:00, 12.35 Batches/s]\n"
     ]
    },
    {
     "data": {
      "text/plain": [
       "{'query': 'What were the origins of the Palestine problem as an international issue?',\n",
       " 'no_ans_gap': 2.5004959106445312,\n",
       " 'answers': [{'answer': 'towards the end of the First World War',\n",
       "   'score': 9.186897277832031,\n",
       "   'probability': 0.7592116315941247,\n",
       "   'context': 'The origins of the Palestine problem as an international issue, however, lie in events occurring towards the end of the First World War. These events led to a League of Nations decision to place Palestine under the administration of Great Britain as the Mandatory Power under the Mandates System adopted by the League. In principle, the Mandate was meant to be in the nature of a transitory phase until Palestine attained the status of a fully independent nation, a status provisionally recognized in the League’s Covenant, but in fact the Mandate’s historical evolution did not result in the emergence of Palestine as an independent nation.\\r',\n",
       "   'offset_start': 97,\n",
       "   'offset_end': 135,\n",
       "   'offset_start_in_doc': 97,\n",
       "   'offset_end_in_doc': 135,\n",
       "   'document_id': '7112e2eb-64d1-4184-97cb-d85e2c5eeac1',\n",
       "   'meta': {'source': 'un palestine'}},\n",
       "  {'answer': 'The Beginnings of the Palestine Issue',\n",
       "   'score': 2.188699245452881,\n",
       "   'probability': 0.5679733949612665,\n",
       "   'context': 'I. The Beginnings of the Palestine Issue\\r',\n",
       "   'offset_start': 3,\n",
       "   'offset_end': 40,\n",
       "   'offset_start_in_doc': 3,\n",
       "   'offset_end_in_doc': 40,\n",
       "   'document_id': 'eb55d020-d7a3-4da2-a3b1-a0c4af97db61',\n",
       "   'meta': {'source': 'un palestine'}},\n",
       "  {'answer': 'War',\n",
       "   'score': 0.3799353837966919,\n",
       "   'probability': 0.5118707496382645,\n",
       "   'context': '“… After examining this and other evidence and studying the course of events in Palestine since the War, we have no doubt as to what were ‘the underlying causes of the disturbances’ of last year. They were:\\r',\n",
       "   'offset_start': 100,\n",
       "   'offset_end': 103,\n",
       "   'offset_start_in_doc': 100,\n",
       "   'offset_end_in_doc': 103,\n",
       "   'document_id': '56cd3b1f-c707-4c94-b346-f14d76de3b97',\n",
       "   'meta': {'source': 'un palestine'}}]}"
      ]
     },
     "execution_count": 35,
     "metadata": {},
     "output_type": "execute_result"
    }
   ],
   "source": [
    "qa.run(query='What were the origins of the Palestine problem as an international issue?', top_k_reader=3)\n"
   ]
  },
  {
   "cell_type": "code",
   "execution_count": 34,
   "metadata": {},
   "outputs": [
    {
     "name": "stderr",
     "output_type": "stream",
     "text": [
      "08/20/2023 13:05:50 - INFO - elasticsearch -   POST http://localhost:9200/un/_search [status:200 request:0.017s]\n",
      "Inferencing Samples: 100%|██████████| 1/1 [00:00<00:00,  4.27 Batches/s]\n",
      "Inferencing Samples: 100%|██████████| 1/1 [00:00<00:00, 12.99 Batches/s]\n",
      "Inferencing Samples: 100%|██████████| 1/1 [00:00<00:00, 12.66 Batches/s]\n",
      "Inferencing Samples: 100%|██████████| 1/1 [00:00<00:00, 12.99 Batches/s]\n",
      "Inferencing Samples: 100%|██████████| 1/1 [00:00<00:00, 12.50 Batches/s]\n",
      "Inferencing Samples: 100%|██████████| 1/1 [00:00<00:00, 12.66 Batches/s]\n",
      "Inferencing Samples: 100%|██████████| 1/1 [00:00<00:00, 12.82 Batches/s]\n",
      "Inferencing Samples: 100%|██████████| 1/1 [00:00<00:00, 12.99 Batches/s]\n",
      "Inferencing Samples: 100%|██████████| 1/1 [00:00<00:00, 12.50 Batches/s]\n",
      "Inferencing Samples: 100%|██████████| 1/1 [00:00<00:00, 12.66 Batches/s]\n"
     ]
    },
    {
     "data": {
      "text/plain": [
       "{'query': 'Why did the Mandate for Palestine not result in the emergence of an independent nation?',\n",
       " 'no_ans_gap': 5.823172092437744,\n",
       " 'answers': [{'answer': 'Palestinian Arabs could not present their own views',\n",
       "   'score': 12.28139877319336,\n",
       "   'probability': 0.8227621947973142,\n",
       "   'context': 'Both Governments then requested the views of the independent Arab Governments which, in the meantime, had formed the Arab League in March 1945, envisioning the future membership of an eventually independent Palestine. Since the Palestinian Arabs could not present their own views, the Arab Governments actively advocated their case, and obtained assurances from the United States Government of consultation on any formula for Palestine. They now proposed a conference to discuss the Palestine problem.\\r',\n",
       "   'offset_start': 228,\n",
       "   'offset_end': 279,\n",
       "   'offset_start_in_doc': 228,\n",
       "   'offset_end_in_doc': 279,\n",
       "   'document_id': 'c9ec55d9-605e-4fad-b95b-8c48322f6c8c',\n",
       "   'meta': {'source': 'un palestine'}},\n",
       "  {'answer': 'historical evolution',\n",
       "   'score': 8.439699172973633,\n",
       "   'probability': 0.7417266763848928,\n",
       "   'context': 'The origins of the Palestine problem as an international issue, however, lie in events occurring towards the end of the First World War. These events led to a League of Nations decision to place Palestine under the administration of Great Britain as the Mandatory Power under the Mandates System adopted by the League. In principle, the Mandate was meant to be in the nature of a transitory phase until Palestine attained the status of a fully independent nation, a status provisionally recognized in the League’s Covenant, but in fact the Mandate’s historical evolution did not result in the emergence of Palestine as an independent nation.\\r',\n",
       "   'offset_start': 550,\n",
       "   'offset_end': 570,\n",
       "   'offset_start_in_doc': 550,\n",
       "   'offset_end_in_doc': 570,\n",
       "   'document_id': '7112e2eb-64d1-4184-97cb-d85e2c5eeac1',\n",
       "   'meta': {'source': 'un palestine'}},\n",
       "  {'answer': 'it was null and void.',\n",
       "   'score': 7.962174415588379,\n",
       "   'probability': 0.7301279434938706,\n",
       "   'context': '“1. The first ground of invalidity of the Mandate is that by endorsing the Balfour Declaration and accepting the concept of the establishment of a Jewish national home in Palestine it violated the sovereignty of the people of Palestine and their natural rights of independence and self-determination. Palestine was the national home of the Palestinians from time immemorial. The establishment of a national home for an alien people in that country was a violation of the legitimate and fundamental rights of the inhabitants. The League of Nations did not possess the power, any more than the British Government did, to dispose of Palestine, or to grant to the Jews any political or territorial rights in that country. In so far as the Mandate purported to recognize any rights for alien Jews in Palestine, it was null and void.\\r',\n",
       "   'offset_start': 806,\n",
       "   'offset_end': 827,\n",
       "   'offset_start_in_doc': 806,\n",
       "   'offset_end_in_doc': 827,\n",
       "   'document_id': '8b2c44a8-ce74-4be3-94b5-7171cde4c20f',\n",
       "   'meta': {'source': 'un palestine'}}]}"
      ]
     },
     "execution_count": 34,
     "metadata": {},
     "output_type": "execute_result"
    }
   ],
   "source": [
    "qa.run(query='Why did the Mandate for Palestine not result in the emergence of an independent nation?', top_k_reader=3)\n"
   ]
  },
  {
   "cell_type": "code",
   "execution_count": 33,
   "metadata": {},
   "outputs": [
    {
     "name": "stderr",
     "output_type": "stream",
     "text": [
      "08/20/2023 13:03:06 - INFO - elasticsearch -   POST http://localhost:9200/un/_search [status:200 request:0.012s]\n",
      "Inferencing Samples:   0%|          | 0/1 [00:00<?, ? Batches/s]"
     ]
    },
    {
     "name": "stderr",
     "output_type": "stream",
     "text": [
      "Inferencing Samples: 100%|██████████| 1/1 [00:00<00:00,  3.89 Batches/s]\n",
      "Inferencing Samples: 100%|██████████| 1/1 [00:00<00:00, 12.82 Batches/s]\n",
      "Inferencing Samples: 100%|██████████| 1/1 [00:00<00:00, 12.05 Batches/s]\n",
      "Inferencing Samples: 100%|██████████| 1/1 [00:00<00:00, 10.99 Batches/s]\n",
      "Inferencing Samples: 100%|██████████| 1/1 [00:00<00:00,  8.40 Batches/s]\n",
      "Inferencing Samples: 100%|██████████| 1/1 [00:00<00:00, 12.66 Batches/s]\n",
      "Inferencing Samples: 100%|██████████| 1/1 [00:00<00:00, 11.49 Batches/s]\n",
      "Inferencing Samples: 100%|██████████| 1/1 [00:00<00:00, 12.82 Batches/s]\n",
      "Inferencing Samples: 100%|██████████| 1/1 [00:00<00:00, 11.63 Batches/s]\n",
      "Inferencing Samples: 100%|██████████| 1/1 [00:00<00:00, 11.63 Batches/s]\n"
     ]
    },
    {
     "data": {
      "text/plain": [
       "{'query': 'Who is stealing land in Palestine?',\n",
       " 'no_ans_gap': -9.19066047668457,\n",
       " 'answers': [{'answer': 'various Jewish agencies',\n",
       "   'score': 0.30732420086860657,\n",
       "   'probability': 0.5096027003720435,\n",
       "   'context': '“Land available for settlement. It has emerged quite definitely that there is at the present time and with the present methods of Arab cultivation no margin of land available for agricultural settlement by new immigrants with the exception of such undeveloped land as the various Jewish agencies hold in reserve.” 77\\r',\n",
       "   'offset_start': 272,\n",
       "   'offset_end': 295,\n",
       "   'offset_start_in_doc': 272,\n",
       "   'offset_end_in_doc': 295,\n",
       "   'document_id': 'a00e49e8-568b-4f43-b029-7c3c43f3c589',\n",
       "   'meta': {'source': 'un palestine'}},\n",
       "  {'answer': 'Jewish population of Palestine who lived there before the War never had any trouble with their Arab neighbours',\n",
       "   'score': -3.7163710594177246,\n",
       "   'probability': 0.38590785130289834,\n",
       "   'context': '“… We wish to point out here that the Jewish population of Palestine who lived there before the War never had any trouble with their Arab neighbours. They enjoyed the same rights and privileges as their fellow Ottoman citizens, and never agitated for the Declaration of November 1917. It is the Zionists outside Palestine who worked for the Balfour Declaration …\\r',\n",
       "   'offset_start': 38,\n",
       "   'offset_end': 148,\n",
       "   'offset_start_in_doc': 38,\n",
       "   'offset_end_in_doc': 148,\n",
       "   'document_id': 'a64562a5-5b02-4367-88a7-f6387211af4d',\n",
       "   'meta': {'source': 'un palestine'}},\n",
       "  {'answer': 'Jewish National Fund',\n",
       "   'score': -3.814526081085205,\n",
       "   'probability': 0.38300431849565614,\n",
       "   'context': '“The effect of the Zionist colonization policy on the Arab. Actually the result of the purchase of land in Palestine by the Jewish National Fund has been that land has been extraterritorialized. It ceases to be land from which the Arab can gain any advantage either now or at any time in the future. Not only can he never hope to lease or to cultivate it, but, by the stringent provisions of the lease of the Jewish National Fund, he is deprived for ever from employment on that land. Nor can anyone help him by purchasing the land and restoring it to common use. The land is in mortmain and inalienable. It is for this reason that Arabs discount the professions of friendship and goodwill on the part of the Zionists in view of the policy which the Zionist Organization deliberately adopted.”75\\r',\n",
       "   'offset_start': 409,\n",
       "   'offset_end': 429,\n",
       "   'offset_start_in_doc': 409,\n",
       "   'offset_end_in_doc': 429,\n",
       "   'document_id': '50872f56-69ae-4759-b74f-17cf7a3bf777',\n",
       "   'meta': {'source': 'un palestine'}}]}"
      ]
     },
     "execution_count": 33,
     "metadata": {},
     "output_type": "execute_result"
    }
   ],
   "source": [
    "qa.run(query='Who is stealing land in Palestine?', top_k_reader=3)\n"
   ]
  },
  {
   "cell_type": "markdown",
   "metadata": {},
   "source": [
    "Interesting Stuff \n",
    "### FREE PALESTINE "
   ]
  },
  {
   "cell_type": "code",
   "execution_count": null,
   "metadata": {},
   "outputs": [],
   "source": []
  }
 ],
 "metadata": {
  "kernelspec": {
   "display_name": "ml",
   "language": "python",
   "name": "python3"
  },
  "language_info": {
   "codemirror_mode": {
    "name": "ipython",
    "version": 3
   },
   "file_extension": ".py",
   "mimetype": "text/x-python",
   "name": "python",
   "nbconvert_exporter": "python",
   "pygments_lexer": "ipython3",
   "version": "3.8.5"
  },
  "orig_nbformat": 4
 },
 "nbformat": 4,
 "nbformat_minor": 2
}
